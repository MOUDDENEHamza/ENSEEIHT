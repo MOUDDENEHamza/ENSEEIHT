{
 "cells": [
  {
   "cell_type": "markdown",
   "metadata": {},
   "source": [
    "<center>\n",
    "<h1> TP-Projet d'optimisation numérique </h1>\n",
    "<h1> Année 2020-2021 - 2e année département Sciences du Numérique </h1>\n",
    "<h1> Noms:  Mouddene </h1>\n",
    "<h1> Prénoms:  Hamza</h1>    \n",
    "</center>"
   ]
  },
  {
   "cell_type": "markdown",
   "metadata": {},
   "source": [
    "# Algorithme de Newton\n",
    "## Implémentation \n",
    " \n",
    "1. Coder l’algorithme de Newton local tel que décrit dans la section *Algorithme de Newton* (fichier `Algorithme_De_Newton.jl`)\n",
    "\n",
    "2. Tester l’algorithme sur les fonctions $f_{1}$ , $f_{2}$ avec les points initiaux $x_{011}$ , $x_{012}$ (pour $f_{1}$ ) et $x_{021}$ , $x_{022}$ , $x_{023}$ (pour $f_{2}$ ) donnés en Annexe A."
   ]
  },
  {
   "cell_type": "code",
   "execution_count": 21,
   "metadata": {},
   "outputs": [
    {
     "name": "stdout",
     "output_type": "stream",
     "text": [
      "-------------------------------------------------------------------------\n",
      "\u001b[34m\u001b[1mRésultats de : Newton appliqué à f0 au point initial -1.5707963267948966:\u001b[22m\u001b[39m\n",
      "  * xsol = -1.5707963267948966\n",
      "  * f(xsol) = -1.0\n",
      "  * nb_iters = 0\n",
      "  * flag = 0\n",
      "  * sol_exacte : -1.5707963267948966\n",
      "-------------------------------------------------------------------------\n",
      "\u001b[34m\u001b[1mRésultats de : Newton appliqué à f0 au point initial -1.0707963267948966:\u001b[22m\u001b[39m\n",
      "  * xsol = 279.1184201770411\n",
      "  * f(xsol) = 0.4647267543686869\n",
      "  * nb_iters = 100\n",
      "  * flag = 3\n",
      "  * sol_exacte : -1.5707963267948966\n",
      "-------------------------------------------------------------------------\n",
      "\u001b[34m\u001b[1mRésultats de : Newton appliqué à f0 au point initial 1.5707963267948966:\u001b[22m\u001b[39m\n",
      "  * xsol = 1.5707963267948966\n",
      "  * f(xsol) = 1.0\n",
      "  * nb_iters = 0\n",
      "  * flag = 0\n",
      "  * sol_exacte : -1.5707963267948966\n"
     ]
    }
   ],
   "source": [
    "#using Pkg;\n",
    "#Pkg.add(\"LinearAlgebra\");\n",
    "#Pkg.add(\"Markdown\")\n",
    "#using Documenter\n",
    "using LinearAlgebra\n",
    "using Markdown                             # Pour que les docstrings en début des fonctions ne posent\n",
    "                                           # pas de soucis. Ces docstrings sont utiles pour générer \n",
    "                                           # la documentation sous GitHub\n",
    "include(\"Algorithme_De_Newton.jl\")\n",
    "\n",
    "# Affichage les sorties de l'algorithme des Régions de confiance\n",
    "function my_afficher_resultats(algo,nom_fct,point_init,xmin,fxmin,flag,sol_exacte,nbiters)\n",
    "\tprintln(\"-------------------------------------------------------------------------\")\n",
    "\tprintstyled(\"Résultats de : \",algo, \" appliqué à \",nom_fct, \" au point initial \", point_init, \":\\n\",bold=true,color=:blue)\n",
    "\tprintln(\"  * xsol = \",xmin)\n",
    "\tprintln(\"  * f(xsol) = \",fxmin)\n",
    "\tprintln(\"  * nb_iters = \",nbiters)\n",
    "\tprintln(\"  * flag = \",flag)\n",
    "\tprintln(\"  * sol_exacte : \", sol_exacte)\n",
    "end\n",
    "\n",
    "# Fonction f0\n",
    "# -----------\n",
    "f0(x) =  sin(x)\n",
    "# la gradient de la fonction f0\n",
    "grad_f0(x) = cos(x)\n",
    "# la hessienne de la fonction f0\n",
    "hess_f0(x) = -sin(x)\n",
    "sol_exacte = -pi/2\n",
    "options = []\n",
    "\n",
    "x0 = sol_exacte\n",
    "xmin,f_min,flag,nb_iters = Algorithme_De_Newton(f0,grad_f0,hess_f0,x0,options)\n",
    "my_afficher_resultats(\"Newton\",\"f0\",x0,xmin,f_min,flag,sol_exacte,nb_iters)\n",
    "x0 = -pi/2+0.5\n",
    "xmin,f_min,flag,nb_iters = Algorithme_De_Newton(f0,grad_f0,hess_f0,x0,options)\n",
    "my_afficher_resultats(\"Newton\",\"f0\",x0,xmin,f_min,flag,sol_exacte,nb_iters)\n",
    "x0 = pi/2\n",
    "xmin,f_min,flag,nb_iters = Algorithme_De_Newton(f0,grad_f0,hess_f0,x0,options)\n",
    "my_afficher_resultats(\"Newton\",\"f0\",x0,xmin,f_min,flag,sol_exacte,nb_iters)"
   ]
  },
  {
   "cell_type": "markdown",
   "metadata": {},
   "source": [
    "## Interprétation \n",
    "\n",
    "Justifier\n",
    "\n",
    "1. les résultats obtenus pour l'exemple $f_0$ ci-dessus;\n",
    "\n",
    "2. que l’algorithme implémenté converge en une itération pour $f_{1}$;\n",
    "\n",
    "3. que l’algorithme puisse ne pas converger pour $f_{2}$ avec certains points initiaux."
   ]
  },
  {
   "cell_type": "markdown",
   "metadata": {},
   "source": [
    "## Vos réponses?\n"
   ]
  },
  {
   "cell_type": "markdown",
   "metadata": {},
   "source": []
  },
  {
   "cell_type": "markdown",
   "metadata": {},
   "source": [
    "# Régions de confiance avec pas de cauchy \n",
    "\n",
    "## Implémentation \n",
    "\n",
    "1. Coder l'algorithme du pas de Cauchy d’un sous-problème de\n",
    "régions de confiance (fichier `Pas_De_Cauchy.jl`). Tester sur les quadratiques proposées en Annexe B.\n",
    "\n",
    "2. Coder l'algorithme de régions de confiance (fichier `Regions_De_Confiance.jl`). Tester sur les problèmes de l’Annexe A."
   ]
  },
  {
   "cell_type": "code",
   "execution_count": 2,
   "metadata": {},
   "outputs": [
    {
     "ename": "LoadError",
     "evalue": "LoadError: LoadError: UndefVarError: @doc_str not defined\nin expression starting at /home/hamza/Desktop/ENSEEIHT/2A/S7/Optimisation/TP-Projet/src/Pas_De_Cauchy.jl:1\nin expression starting at /home/hamza/Desktop/ENSEEIHT/2A/S7/Optimisation/TP-Projet/src/Pas_De_Cauchy.jl:1",
     "output_type": "error",
     "traceback": [
      "LoadError: LoadError: UndefVarError: @doc_str not defined\nin expression starting at /home/hamza/Desktop/ENSEEIHT/2A/S7/Optimisation/TP-Projet/src/Pas_De_Cauchy.jl:1\nin expression starting at /home/hamza/Desktop/ENSEEIHT/2A/S7/Optimisation/TP-Projet/src/Pas_De_Cauchy.jl:1",
      "",
      "Stacktrace:",
      " [1] top-level scope",
      " [2] include(::String) at ./client.jl:457",
      " [3] top-level scope at In[2]:1",
      " [4] include_string(::Function, ::Module, ::String, ::String) at ./loading.jl:1091",
      " [5] execute_code(::String, ::String) at /home/hamza/.julia/packages/IJulia/a1SNk/src/execute_request.jl:27",
      " [6] execute_request(::ZMQ.Socket, ::IJulia.Msg) at /home/hamza/.julia/packages/IJulia/a1SNk/src/execute_request.jl:86",
      " [7] #invokelatest#1 at ./essentials.jl:710 [inlined]",
      " [8] invokelatest at ./essentials.jl:709 [inlined]",
      " [9] eventloop(::ZMQ.Socket) at /home/hamza/.julia/packages/IJulia/a1SNk/src/eventloop.jl:8",
      " [10] (::IJulia.var\"#15#18\")() at ./task.jl:356"
     ]
    }
   ],
   "source": [
    "include(\"Pas_De_Cauchy.jl\")\n",
    "\n",
    "\"B. Cas tests pour le calcul du pas de Cauchy\"\n",
    "\n",
    "\"Quadratique 1\"\n",
    "g1 = [0; 0]\n",
    "H1 = [7 0; 0 2]\n",
    "println(\"Cauchy g1 H1\\n\",Pas_De_Cauchy(g1,H1,1),\"\\n\")\n",
    "\n",
    "\n",
    "\"Quadratique 2\"\n",
    "g2 = [6; 2]\n",
    "H2 = [7 0; 0 2]\n",
    "println(\"Cauchy g2 H2\\n\",Pas_De_Cauchy(g2,H2,1),\"\\n\")\n",
    "\n",
    "\"Quadratique 3\"\n",
    "g3 = [-2; 1]\n",
    "H3 = [-2 0; 0 10]\n",
    "println(\"Cauchy g3 H3\\n\",Pas_De_Cauchy(g3,H3,1),\"\\n\")"
   ]
  },
  {
   "cell_type": "code",
   "execution_count": null,
   "metadata": {},
   "outputs": [],
   "source": [
    "# Vos tests\n",
    "include(\"Regions_De_Confiance.jl\")\n",
    "\n",
    "\n",
    "# Fonction f0\n",
    "# -----------\n",
    "#sol_exacte = -pi/2\n",
    "#options = []\n",
    "\n",
    "#x0 = sol_exacte\n",
    "#xmin,f_min,flag,nb_iters = Regions_De_Confiance(\"cauchy\",f0,grad_f0,hess_f0,x0,options)\n",
    "#my_afficher_resultats(\"cauchy\",\"f0\",x0,xmin,f_min,flag,sol_exacte,nb_iters)\n",
    "#x0 = -pi/2+0.5\n",
    "#xmin,f_min,flag,nb_iters = Regions_De_Confiance(\"cauchy\",f0,grad_f0,hess_f0,x0,options)\n",
    "#my_afficher_resultats(\"cauchy\",\"f0\",x0,xmin,f_min,flag,sol_exacte,nb_iters)\n",
    "#x0 = pi/2\n",
    "#xmin,f_min,flag,nb_iters = Regions_De_Confiance(\"cauchy\",f0,grad_f0,hess_f0,x0,options)\n",
    "#my_afficher_resultats(\"cauchy\",\"f0\",x0,xmin,f_min,flag,sol_exacte,nb_iters)\n",
    "\n",
    "\n",
    "# Fonction f1\n",
    "# -----------\n",
    "sol_exacte = [1,1,1]\n",
    "options = []\n",
    "\n",
    "x0 = [1; 0; 0]\n",
    "xmin,f_min,flag,nb_iters = Regions_De_Confiance(\"cauchy\",f1,grad_f1,hess_f1,x0,options)\n",
    "my_afficher_resultats(\"cauchy\",\"f1\",x0,xmin,f_min,flag,sol_exacte,nb_iters)\n",
    "x0 = [10; 3; -2.2]\n",
    "xmin,f_min,flag,nb_iters = Regions_De_Confiance(\"cauchy\",f1,grad_f1,hess_f1,x0,options)\n",
    "my_afficher_resultats(\"cauchy\",\"f1\",x0,xmin,f_min,flag,sol_exacte,nb_iters)\n",
    "\n",
    "\n",
    "# Fonction f2\n",
    "# -----------\n",
    "sol_exacte = [1,1,1]\n",
    "options = []\n",
    "\n",
    "x0 = [-1.2; 1]\n",
    "xmin,f_min,flag,nb_iters = Regions_De_Confiance(\"cauchy\",f2,grad_f2,hess_f2,x0,options)\n",
    "my_afficher_resultats(\"cauchy\",\"f2\",x0,xmin,f_min,flag,sol_exacte,nb_iters)\n",
    "x0 = [10; 0]\n",
    "xmin,f_min,flag,nb_iters = Regions_De_Confiance(\"cauchy\",f2,grad_f2,hess_f2,x0,options)\n",
    "my_afficher_resultats(\"cauchy\",\"f2\",x0,xmin,f_min,flag,sol_exacte,nb_iters)\n",
    "x0 = [0; ((1/200)+(1/(10^12)))]\n",
    "xmin,f_min,flag,nb_iters = Regions_De_Confiance(\"cauchy\",f2,grad_f2,hess_f2,x0,options)\n",
    "my_afficher_resultats(\"cauchy\",\"f2\",x0,xmin,f_min,flag,sol_exacte,nb_iters)"
   ]
  },
  {
   "cell_type": "markdown",
   "metadata": {},
   "source": [
    "## Interprétation \n",
    "\n",
    "1. Quelle relation lie la fonction test $f_1$ et son modèle de Taylor à l’ordre 2 ? Comparer alors les performances de Newton et RC-Pas de Cauchy sur cette fonction.\n",
    "\n",
    "2. Le rayon initial de la région de confiance est un paramètre important dans l’analyse\n",
    "de la performance de l’algorithme. Sur quel(s) autre(s) paramètre(s) peut-on jouer\n",
    "pour essayer d’améliorer cette performance ? Étudier l’influence d’au moins deux de\n",
    "ces paramètres."
   ]
  },
  {
   "cell_type": "code",
   "execution_count": null,
   "metadata": {},
   "outputs": [],
   "source": []
  },
  {
   "cell_type": "markdown",
   "metadata": {},
   "source": [
    "## Vos réponses?\n"
   ]
  },
  {
   "cell_type": "markdown",
   "metadata": {},
   "source": [
    "# Régions de confiance avec gradient conjugué tronqué\n",
    "\n",
    "## Implémentation \n",
    "\n",
    "1. Implémenter l’algorithme du Gradient Conjugué Tronqué, en se basant sur le cours (fichier `Gradient_Conjugue_Tronque.jl`).\n",
    "On validera les résultats sur les fonctions de l’Annexe C.\n",
    "\n",
    "2. Intégrer finalement l’algorithme du Gradient Conjugué Tronqué dans le code de\n",
    "régions de confiance, et appliquer ce code pour résoudre les exemples proposés en\n",
    "Annexe A."
   ]
  },
  {
   "cell_type": "code",
   "execution_count": null,
   "metadata": {},
   "outputs": [],
   "source": [
    "include(\"Gradient_Conjugue_Tronque.jl\")\n",
    "\n",
    "\"C. Cas tests pour la résolution du sous-problème par l’algorithme du Gradient Conjugué Tronqué\"\n",
    "\n",
    "\"Quadratique 4\"\n",
    "g4 = [0; 0]\n",
    "H4 = [-2 0; 0 10]\n",
    "println(\"Cauchy g4 H4\\n\",Gradient_Conjugue_Tronque(g4,H4,[]),\"\\n\")\n",
    "\n",
    "\n",
    "\"Quadratique 5\"\n",
    "g5 = [2; 3]\n",
    "H5 = [4 6; 6 5]\n",
    "println(\"\\nCauchy g5 H5\\n\",Gradient_Conjugue_Tronque(g5,H5,[]),\"\\n\")\n",
    "\n",
    "\"Quadratique 6\"\n",
    "g6 = [2; 0]\n",
    "H6 = [4 0; 0 -15]\n",
    "println(\"\\nCauchy g6 H6\\n\",Gradient_Conjugue_Tronque(g6,H6,[]),\"\\n\")"
   ]
  },
  {
   "cell_type": "code",
   "execution_count": null,
   "metadata": {},
   "outputs": [],
   "source": [
    "# Vos tests\n",
    "# Vos tests\n",
    "include(\"Regions_De_Confiance.jl\")\n",
    "\n",
    "# Fonction f0\n",
    "# -----------\n",
    "#sol_exacte = -pi/2\n",
    "#options = []\n",
    "\n",
    "#x0 = sol_exacte\n",
    "#xmin,f_min,flag,nb_iters = Regions_De_Confiance(\"gct\",f0,grad_f0,hess_f0,x0,options)\n",
    "#my_afficher_resultats(\"gct\",\"f0\",x0,xmin,f_min,flag,sol_exacte,nb_iters)\n",
    "#x0 = -pi/2+0.5\n",
    "#xmin,f_min,flag,nb_iters = Regions_De_Confiance(\"gct\",f0,grad_f0,hess_f0,x0,options)\n",
    "#my_afficher_resultats(\"gct\",\"f0\",x0,xmin,f_min,flag,sol_exacte,nb_iters)\n",
    "#x0 = pi/2\n",
    "#xmin,f_min,flag,nb_iters = Regions_De_Confiance(\"gct\",f0,grad_f0,hess_f0,x0,options)\n",
    "#my_afficher_resultats(\"gct\",\"f0\",x0,xmin,f_min,flag,sol_exacte,nb_iters)\n",
    "\n",
    "\n",
    "\n",
    "# Fonction f1\n",
    "# -----------\n",
    "sol_exacte = [1,1,1]\n",
    "options = []\n",
    "\n",
    "x0 = [1; 0; 0]\n",
    "xmin,f_min,flag,nb_iters = Regions_De_Confiance(\"gct\",f1,grad_f1,hess_f1,x0,options)\n",
    "my_afficher_resultats(\"gct\",\"f1\",x0,xmin,f_min,flag,sol_exacte,nb_iters)\n",
    "x0 = [10; 3; -2.2]\n",
    "xmin,f_min,flag,nb_iters = Regions_De_Confiance(\"gct\",f1,grad_f1,hess_f1,x0,options)\n",
    "my_afficher_resultats(\"gct\",\"f1\",x0,xmin,f_min,flag,sol_exacte,nb_iters)\n",
    "\n",
    "\n",
    "# Fonction f2\n",
    "# -----------\n",
    "sol_exacte = [1,1,1]\n",
    "options = []\n",
    "\n",
    "x0 = [-1.2; 1]\n",
    "xmin,f_min,flag,nb_iters = Regions_De_Confiance(\"gct\",f2,grad_f2,hess_f2,x0,options)\n",
    "my_afficher_resultats(\"gct\",\"f0\",x0,xmin,f_min,flag,sol_exacte,nb_iters)\n",
    "x0 = [10; 0]\n",
    "xmin,f_min,flag,nb_iters = Regions_De_Confiance(\"gct\",f2,grad_f2,hess_f2,x0,options)\n",
    "my_afficher_resultats(\"gct\",\"f0\",x0,xmin,f_min,flag,sol_exacte,nb_iters)\n",
    "x0 = [0; ((1/200)+(1/(10^12)))]\n",
    "xmin,f_min,flag,nb_iters = Regions_De_Confiance(\"gct\",f2,grad_f2,hess_f2,x0,options)\n",
    "my_afficher_resultats(\"gct\",\"f2\",x0,xmin,f_min,flag,sol_exacte,nb_iters)"
   ]
  },
  {
   "cell_type": "markdown",
   "metadata": {},
   "source": [
    "## Interprétation  \n",
    "\n",
    "1. Comparer la décroissance obtenue avec celle du pas de Cauchy, en retournant, dans\n",
    "un premier temps le dernier itéré admissible à courbure positive (c’est à dire, que si\n",
    "l’une ou l’autre des deux conditions (b) ou (d) sont rencontrées dans l’algorithme 3,\n",
    "alors on ne calcule pas ``σ_{j}`` et on retourne le dernier itéré ``s_{j}`` directement).\n",
    "\n",
    "2. Comparer la décroissance obtenue avec celle du pas de Cauchy, en imposant la sortie\n",
    "dans l’algorithme 3 au bout d’une itération seulement. Que remarquez vous ?\n",
    "\n",
    "3. Comparer la décroissance obtenue avec celle du pas de Cauchy dans le cas général.\n",
    "\n",
    "4. Quels sont les avantages et inconvénients des deux approches ?"
   ]
  },
  {
   "cell_type": "markdown",
   "metadata": {},
   "source": [
    "## Vos réponses?\n"
   ]
  },
  {
   "cell_type": "markdown",
   "metadata": {},
   "source": [
    "# Lagrangien augmenté\n",
    "\n",
    "## Implémentation\n",
    "1.Choisir des critères d’arrêt pour la convergence de l'algorithme.\n",
    "\n",
    "2.Implémenter l'algorithme du lagrangien augmenté, en utilisant les différentes méthodes\n",
    "qui ont été vues en première partie pour la résolution de la suite de problémes sans\n",
    "contraintes (fichier `Lagrangien_Augmente.jl`)\n",
    " \n",
    "3.Tester les différentes variantes sur les problèmes en Annexe D.\n",
    " "
   ]
  },
  {
   "cell_type": "code",
   "execution_count": null,
   "metadata": {},
   "outputs": [],
   "source": [
    "# Vos tests\n",
    "include(\"Lagrangien_Augmente.jl\")\n",
    "include(\"Regions_De_Confiance.jl\")\n",
    "include(\"Gradient_Conjugue_Tronque.jl\")\n",
    "include(\"Pas_De_Cauchy.jl\")\n",
    "\n",
    "\"Retour sur f1\"\n",
    "contrainte(x) = x[1]+x[3]-1\n",
    "grad_contrainte(x) = [1; 0; 1]\n",
    "hess_contrainte(x) = [0 0 0; 0 0 0; 0 0 0]\n",
    "\n",
    "\"réalisable\"\n",
    "xc = [0; 1; 1]\n",
    "sol_exacte = [1,1,1]\n",
    "xmin,f_min,flag,nb_iters = Lagrangien_Augmente(\"gct\",f1,contrainte,grad_f1,hess_f1,grad_contrainte,hess_contrainte,xc,[])\n",
    "my_afficher_resultats(\"Lagrangien_Augmente_gct\",\"f1\",xc,xmin,f_min,flag,sol_exacte,nb_iters)\n",
    "xmin,f_min,flag,nb_iters = Lagrangien_Augmente(\"cauchy\",f1,contrainte,grad_f1,hess_f1,grad_contrainte,hess_contrainte,xc,[])\n",
    "my_afficher_resultats(\"Lagrangien_Augmente_cauchy\",\"f1\",xc,xmin,f_min,flag,sol_exacte,nb_iters)\n",
    "xmin,f_min,flag,nb_iters = Lagrangien_Augmente(\"newton\",f1,contrainte,grad_f1,hess_f1,grad_contrainte,hess_contrainte,xc,[])\n",
    "my_afficher_resultats(\"Lagrangien_Augmente_newton\",\"f1\",xc,xmin,f_min,flag,sol_exacte,nb_iters)\n",
    "\n",
    "\n",
    "\"non réalisable\"\n",
    "xc = [0.5; 1.25; 1]\n",
    "sol_exacte = [1,1,1]\n",
    "#xmin,f_min,flag,nb_iters = Lagrangien_Augmente(\"gct\",f1,contrainte,grad_f1,hess_f1,grad_contrainte,hess_contrainte,xc,[])\n",
    "#my_afficher_resultats(\"Lagrangien_Augmente_gct\",\"f1\",xc,xmin,f_min,flag,sol_exacte,nb_iters)\n",
    "xmin,f_min,flag,nb_iters = Lagrangien_Augmente(\"cauchy\",f1,contrainte,grad_f1,hess_f1,grad_contrainte,hess_contrainte,xc,[])\n",
    "my_afficher_resultats(\"Lagrangien_Augmente_cauchy\",\"f1\",xc,xmin,f_min,flag,sol_exacte,nb_iters)\n",
    "xmin,f_min,flag,nb_iters = Lagrangien_Augmente(\"newton\",f1,contrainte,grad_f1,hess_f1,grad_contrainte,hess_contrainte,xc,[])\n",
    "my_afficher_resultats(\"Lagrangien_Augmente_newton\",\"f1\",xc,xmin,f_min,flag,sol_exacte,nb_iters)\n",
    "\n",
    "\n",
    "\n",
    "\n",
    "\"Retour sur f2\"\n",
    "contrainte(x) =  (x[1]^2) + (x[2]^2) -1.5\n",
    "grad_contrainte(x) = [2*x[1]; 2*x[2]]\n",
    "hess_contrainte(x) = [2 0; 0 2]\n",
    "\n",
    "\"non réalisable\"\n",
    "xc = [1; 0]\n",
    "sol_exacte = [1,1,1]\n",
    "xmin,f_min,flag,nb_iters = Lagrangien_Augmente(\"gct\",f2,contrainte,grad_f2,hess_f2,grad_contrainte,hess_contrainte,xc,[])\n",
    "my_afficher_resultats(\"Lagrangien_Augmente_gct\",\"f2\",xc,xmin,f_min,flag,sol_exacte,nb_iters)\n",
    "xmin,f_min,flag,nb_iters = Lagrangien_Augmente(\"cauchy\",f2,contrainte,grad_f2,hess_f2,grad_contrainte,hess_contrainte,xc,[])\n",
    "my_afficher_resultats(\"Lagrangien_Augmente_cauchy\",\"f2\",xc,xmin,f_min,flag,sol_exacte,nb_iters)\n",
    "xmin,f_min,flag,nb_iters = Lagrangien_Augmente(\"newton\",f2,contrainte,grad_f2,hess_f2,grad_contrainte,hess_contrainte,xc,[])\n",
    "my_afficher_resultats(\"Lagrangien_Augmente_newton\",\"f2\",xc,xmin,f_min,flag,sol_exacte,nb_iters)\n",
    "\n",
    "\"réalisable\"\n",
    "xc = [sqrt(3)/2; sqrt(3)/2]\n",
    "sol_exacte = [1,1]\n",
    "xmin,f_min,flag,nb_iters = Lagrangien_Augmente(\"gct\",f2,contrainte,grad_f2,hess_f2,grad_contrainte,hess_contrainte,xc,[])\n",
    "my_afficher_resultats(\"Lagrangien_Augmente_gct\",\"f2\",xc,xmin,f_min,flag,sol_exacte,nb_iters)\n",
    "xmin,f_min,flag,nb_iters = Lagrangien_Augmente(\"cauchy\",f2,contrainte,grad_f2,hess_f2,grad_contrainte,hess_contrainte,xc,[])\n",
    "my_afficher_resultats(\"Lagrangien_Augmente_cauchy\",\"f2\",xc,xmin,f_min,flag,sol_exacte,nb_iters)\n",
    "xmin,f_min,flag,nb_iters = Lagrangien_Augmente(\"newton\",f2,contrainte,grad_f2,hess_f2,grad_contrainte,hess_contrainte,xc,[])\n",
    "my_afficher_resultats(\"Lagrangien_Augmente_newton\",\"f2\",xc,xmin,f_min,flag,sol_exacte,nb_iters)"
   ]
  },
  {
   "cell_type": "markdown",
   "metadata": {},
   "source": [
    "## Interprétation\n",
    " 1.Commenter les résultats obtenus, en étudiant notamment les valeurs de $\\lambda_k$ et $\\mu_k$.\n",
    " \n",
    " 2.Étudier l'influence du paramètre $\\tau$ dans la performance de l'algorithme.\n",
    " \n",
    " 3.**Supplémentaire** : \n",
    "      Que proposez-vous comme méthode pour la résolution des problèmes avec\n",
    "      des contraintes à la fois d'égalité et d'inégalité ? Implémenter (si le temps le permet)\n",
    "      ce nouvel algorithme\n"
   ]
  },
  {
   "cell_type": "markdown",
   "metadata": {},
   "source": [
    "## Vos réponses?\n"
   ]
  },
  {
   "cell_type": "code",
   "execution_count": null,
   "metadata": {},
   "outputs": [],
   "source": []
  }
 ],
 "metadata": {
  "kernelspec": {
   "display_name": "Julia 1.5.2",
   "language": "julia",
   "name": "julia-1.5"
  },
  "language_info": {
   "file_extension": ".jl",
   "mimetype": "application/julia",
   "name": "julia",
   "version": "1.5.2"
  }
 },
 "nbformat": 4,
 "nbformat_minor": 4
}
