{
 "cells": [
  {
   "cell_type": "code",
   "execution_count": 1,
   "metadata": {},
   "outputs": [
    {
     "name": "stderr",
     "output_type": "stream",
     "text": [
      "\u001b[32m\u001b[1m   Updating\u001b[22m\u001b[39m registry at `~/.julia/registries/General`\n",
      "\u001b[32m\u001b[1m  Resolving\u001b[22m\u001b[39m package versions...\n",
      "\u001b[32m\u001b[1mNo Changes\u001b[22m\u001b[39m to `~/.julia/environments/v1.5/Project.toml`\n",
      "\u001b[32m\u001b[1mNo Changes\u001b[22m\u001b[39m to `~/.julia/environments/v1.5/Manifest.toml`\n",
      "\u001b[32m\u001b[1m  Resolving\u001b[22m\u001b[39m package versions...\n",
      "\u001b[32m\u001b[1mNo Changes\u001b[22m\u001b[39m to `~/.julia/environments/v1.5/Project.toml`\n",
      "\u001b[32m\u001b[1mNo Changes\u001b[22m\u001b[39m to `~/.julia/environments/v1.5/Manifest.toml`\n"
     ]
    }
   ],
   "source": [
    "#importer les packages utiles, le manager de package Pkg etant un package\n",
    "import Pkg; Pkg.add(\"Cbc\")\n",
    "Pkg.add(\"JuMP\")"
   ]
  },
  {
   "cell_type": "markdown",
   "metadata": {},
   "source": [
    "## Cas particulier 2\n",
    "***\n",
    "\n",
    "En réalité, il ne s’agit pas de fluide mais de produits préconditionnés et une commande\n",
    "d’un client peut être constituée de plusieurs produits en quantités différentes. Le problème\n",
    "d’affectation consiste à déterminer le nombre de produits de chaque type livrés par chaque\n",
    "magasin à chaque client. Modifier et résoudre la formulation précédente pour tenir compte\n",
    "de la discrétisation de la demande. Tester avec différents jeux de données.\n",
    "\n",
    "### Modélisation et résolution du problème"
   ]
  },
  {
   "cell_type": "code",
   "execution_count": 1,
   "metadata": {},
   "outputs": [
    {
     "name": "stdout",
     "output_type": "stream",
     "text": [
      "Welcome to the CBC MILP Solver \n",
      "Version: 2.10.3 \n",
      "Build Date: Jan  1 1970 \n",
      "\n",
      "command line - Cbc_C_Interface -solve -quit (default strategy 1)\n",
      "Continuous objective value is 9.5 - 0.00 seconds\n",
      "Cgl0004I processed model has 2 rows, 6 columns (6 integer (3 of which binary)) and 6 elements\n",
      "Cbc0012I Integer solution of 10 found by DiveCoefficient after 0 iterations and 0 nodes (0.00 seconds)\n",
      "Cbc0001I Search completed - best objective 10, took 0 iterations and 0 nodes (0.00 seconds)\n",
      "Cbc0035I Maximum depth 0, 0 variables fixed on reduced cost\n",
      "Cuts at root node changed objective from 10 to 10\n",
      "Probing was tried 0 times and created 0 cuts of which 0 were active after adding rounds of cuts (0.000 seconds)\n",
      "Gomory was tried 0 times and created 0 cuts of which 0 were active after adding rounds of cuts (0.000 seconds)\n",
      "Knapsack was tried 0 times and created 0 cuts of which 0 were active after adding rounds of cuts (0.000 seconds)\n",
      "Clique was tried 0 times and created 0 cuts of which 0 were active after adding rounds of cuts (0.000 seconds)\n",
      "MixedIntegerRounding2 was tried 0 times and created 0 cuts of which 0 were active after adding rounds of cuts (0.000 seconds)\n",
      "FlowCover was tried 0 times and created 0 cuts of which 0 were active after adding rounds of cuts (0.000 seconds)\n",
      "TwoMirCuts was tried 0 times and created 0 cuts of which 0 were active after adding rounds of cuts (0.000 seconds)\n",
      "ZeroHalf was tried 0 times and created 0 cuts of which 0 were active after adding rounds of cuts (0.000 seconds)\n",
      "\n",
      "Result - Optimal solution found\n",
      "\n",
      "Objective value:                10.00000000\n",
      "Enumerated nodes:               0\n",
      "Total iterations:               0\n",
      "Time (CPU seconds):             0.00\n",
      "Time (Wallclock seconds):       0.14\n",
      "\n",
      "Total time (CPU seconds):       0.00   (Wallclock seconds):       0.14\n",
      "\n"
     ]
    }
   ],
   "source": [
    "# fonctionne pour JuMP version 0.21.5\n",
    "using Cbc\n",
    "using JuMP\n",
    "\n",
    "# data\n",
    "n_fluides = 2               # Nombre de fluides disponibles\n",
    "n_demandes = 2              # Nombre de demandes \n",
    "n_magasins = 3              # Nombre de magasins\n",
    "demandes = [2 0; 1 3]       # Les demandes figurantes dans le tableau (a)\n",
    "stocks = [2.5 1; 1 2; 2 1]  # Le stock par magasin figurant dans le tableau (b)\n",
    "couts = [1 1; 2 3; 3 2]     # Le cout par fluide pour les différents magasins figurant dans le tableau (c)\n",
    "\n",
    "# set optimizer\n",
    "model = Model(Cbc.Optimizer)\n",
    "\n",
    "# define variables\n",
    "@variable(model, quantites[1 : n_magasins, 1 : n_fluides, 1 : n_demandes] >= 0, Int)\n",
    "\n",
    "# define objective function\n",
    "A = sum(quantites[:, :, k] for k in 1 : n_demandes)\n",
    "B = A .* couts\n",
    "@objective(model, Min, sum(B))\n",
    "\n",
    "# define constraints\n",
    "for i in 1 : n_fluides \n",
    "    @constraint(model, sum(A[:, i]) >= sum(demandes[:, i]))\n",
    "end\n",
    "\n",
    "for i in 1 : n_magasins\n",
    "    for j in 1 : n_fluides\n",
    "        @constraint(model, A[i, j] <= stocks[i, j])\n",
    "    end\n",
    "end\n",
    "\n",
    "# run optimization\n",
    "optimize!(model)"
   ]
  },
  {
   "cell_type": "markdown",
   "metadata": {},
   "source": [
    "### Tests avec différents jeux de données"
   ]
  },
  {
   "cell_type": "code",
   "execution_count": 2,
   "metadata": {},
   "outputs": [
    {
     "name": "stdout",
     "output_type": "stream",
     "text": [
      "Solution obtenue:\n",
      "\t benefice = 10.0\n",
      "\n",
      "\t Pour la demande 1 : Il faut prendre 2.0 unité pour le fluide 1 du magasin 1\n",
      "\t Pour la demande 2 : Il faut prendre 0.0 unité pour le fluide 1 du magasin 1\n",
      "\n",
      "\n",
      "\t Pour la demande 1 : Il faut prendre 1.0 unité pour le fluide 2 du magasin 1\n",
      "\t Pour la demande 2 : Il faut prendre 0.0 unité pour le fluide 2 du magasin 1\n",
      "\n",
      "\n",
      "\t Pour la demande 1 : Il faut prendre 1.0 unité pour le fluide 1 du magasin 2\n",
      "\t Pour la demande 2 : Il faut prendre 0.0 unité pour le fluide 1 du magasin 2\n",
      "\n",
      "\n",
      "\t Pour la demande 1 : Il faut prendre 1.0 unité pour le fluide 2 du magasin 2\n",
      "\t Pour la demande 2 : Il faut prendre 0.0 unité pour le fluide 2 du magasin 2\n",
      "\n",
      "\n",
      "\t Pour la demande 1 : Il faut prendre 0.0 unité pour le fluide 1 du magasin 3\n",
      "\t Pour la demande 2 : Il faut prendre 0.0 unité pour le fluide 1 du magasin 3\n",
      "\n",
      "\n",
      "\t Pour la demande 1 : Il faut prendre 1.0 unité pour le fluide 2 du magasin 3\n",
      "\t Pour la demande 2 : Il faut prendre 0.0 unité pour le fluide 2 du magasin 3\n",
      "\n",
      "\n"
     ]
    }
   ],
   "source": [
    "# print solution\n",
    "println(\"Solution obtenue:\")\n",
    "println(\"\\t benefice = $(objective_value(model))\\n\")\n",
    "for i in 1 : n_magasins\n",
    "    for j in 1 : n_fluides\n",
    "        for k in 1 : n_demandes\n",
    "            println(\"\\t Pour la demande $k : Il faut prendre $(value(quantites[i, j, k])) unité pour le fluide $j du magasin $i\")\n",
    "        end\n",
    "        println(\"\\n\")\n",
    "    end\n",
    "end"
   ]
  }
 ],
 "metadata": {
  "kernelspec": {
   "display_name": "Julia 1.5.2",
   "language": "julia",
   "name": "julia-1.5"
  },
  "language_info": {
   "file_extension": ".jl",
   "mimetype": "application/julia",
   "name": "julia",
   "version": "1.5.2"
  }
 },
 "nbformat": 4,
 "nbformat_minor": 4
}
