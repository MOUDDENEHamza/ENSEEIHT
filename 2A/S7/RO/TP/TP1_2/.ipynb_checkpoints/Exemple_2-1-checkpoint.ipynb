{
 "cells": [
  {
   "cell_type": "code",
   "execution_count": 10,
   "metadata": {},
   "outputs": [
    {
     "name": "stderr",
     "output_type": "stream",
     "text": [
      "\u001b[32m\u001b[1m  Resolving\u001b[22m\u001b[39m package versions...\n",
      "\u001b[32m\u001b[1mNo Changes\u001b[22m\u001b[39m to `~/.julia/environments/v1.5/Project.toml`\n",
      "\u001b[32m\u001b[1mNo Changes\u001b[22m\u001b[39m to `~/.julia/environments/v1.5/Manifest.toml`\n",
      "\u001b[32m\u001b[1m  Resolving\u001b[22m\u001b[39m package versions...\n",
      "\u001b[32m\u001b[1mNo Changes\u001b[22m\u001b[39m to `~/.julia/environments/v1.5/Project.toml`\n",
      "\u001b[32m\u001b[1mNo Changes\u001b[22m\u001b[39m to `~/.julia/environments/v1.5/Manifest.toml`\n"
     ]
    }
   ],
   "source": [
    "#importer les packages utiles, le manager de package Pkg etant un package\n",
    "import Pkg; Pkg.add(\"Cbc\")\n",
    "Pkg.add(\"JuMP\")"
   ]
  },
  {
   "cell_type": "markdown",
   "metadata": {},
   "source": [
    "# Applications en optimisation pour l’e-commerce\n",
    "***\n",
    "\n",
    "Parmi les problématiques d’optimisation émergeant en e-commerce, se trouvent l’affectation de commandes de clients aux magasins, compte-tenu des coûts associés à la livraison des colis, à la préparation des commandes et à la gestion des différents stocks. Nous nous intéresserons particulièrement au problème d’affectation de commandes et tournées de véhicules pour différents magasins d’une même enseigne ou franchise. Nous nous plaçons\n",
    "donc dans la peau du gestionnaire de l’ensemble des magasins, qui doit d´epenser le moins\n",
    "d’argent possible pour satisfaire les demandes des clients.\n",
    "\n",
    "## Cas particulier 1\n",
    "***\n",
    "\n",
    "Les tableaux (a), (b) et (c) représentent à titre d’exemple des demandes en fluide émanant\n",
    "de différentes commandes et les coûts pour qu’une unité de fluide soit disponible dans un\n",
    "magasin. Chaque magasin dispose d’un volume de stockage limité.\n",
    "\n",
    "| A  | F1 | F2 |\n",
    "|----|----|----|\n",
    "| D1 | 2  | 0  |\n",
    "| D2 | 1  | 3  |\n",
    "\n",
    "| B  | F1  | F2 |\n",
    "|----|-----|----|\n",
    "| M1 | 2.5 | 1  |\n",
    "| M2 | 1   | 2  |\n",
    "| M3 | 2   | 1  |\n",
    "\n",
    "\n",
    "| C  | F1 | F2 |\n",
    "|----|----|----|\n",
    "| M1 | 1  | 1  |\n",
    "| M2 | 2  | 3  |\n",
    "| M3 | 3  | 2  |\n",
    "\n",
    "### Modélisation et résolution du problème"
   ]
  },
  {
   "cell_type": "code",
   "execution_count": 5,
   "metadata": {},
   "outputs": [
    {
     "name": "stdout",
     "output_type": "stream",
     "text": [
      "Welcome to the CBC MILP Solver \n",
      "Version: 2.10.3 \n",
      "Build Date: Jan  1 1970 \n",
      "\n",
      "command line - Cbc_C_Interface -solve -quit (default strategy 1)\n",
      "Presolve 2 (-6) rows, 6 (-6) columns and 6 (-18) elements\n",
      "0  Obj 2.6999999 Primal inf 5.099998 (2)\n",
      "2  Obj 9.5\n",
      "Optimal - objective value 9.5\n",
      "After Postsolve, objective 9.5, infeasibilities - dual 0 (0), primal 0 (0)\n",
      "Optimal objective 9.5 - 2 iterations time 0.002, Presolve 0.00\n",
      "Total time (CPU seconds):       0.00   (Wallclock seconds):       0.00\n",
      "\n"
     ]
    }
   ],
   "source": [
    "# fonctionne pour JuMP version 0.21.5\n",
    "using Cbc\n",
    "using JuMP\n",
    "\n",
    "# data\n",
    "n_fluides = 2               # Nombre de fluides disponibles\n",
    "n_demandes = 2              # Nombre de demandes \n",
    "n_magasins = 3              # Nombre de magasins\n",
    "demandes = [2 0; 1 3]       # Les demandes figurantes dans le tableau (a)\n",
    "stocks = [2.5 1; 1 2; 2 1]  # Le stock par magasin figurant dans le tableau (b)\n",
    "couts = [1 1; 2 3; 3 2]     # Le cout par fluide pour les différents magasins figurant dans le tableau (c)\n",
    "\n",
    "# set optimizer\n",
    "model = Model(Cbc.Optimizer)\n",
    "\n",
    "# define variables\n",
    "@variable(model, quantites[1 : n_magasins, 1 : n_fluides, 1 : n_demandes] >= 0)\n",
    "\n",
    "# define objective function\n",
    "A = sum(quantites[:, :, k] for k in 1 : n_demandes)\n",
    "B = A .* couts\n",
    "@objective(model, Min, sum(B))\n",
    "\n",
    "# define constraints\n",
    "for i in 1 : n_fluides \n",
    "    @constraint(model, sum(A[:, i]) >= sum(demandes[:, i]))\n",
    "end\n",
    "\n",
    "for i in 1 : n_magasins\n",
    "    for j in 1 : n_fluides\n",
    "        @constraint(model, A[i, j] <= stocks[i, j])\n",
    "    end\n",
    "end\n",
    "\n",
    "# run optimization\n",
    "optimize!(model)"
   ]
  },
  {
   "cell_type": "markdown",
   "metadata": {},
   "source": [
    "### Tests avec différents jeux de données"
   ]
  },
  {
   "cell_type": "code",
   "execution_count": 12,
   "metadata": {},
   "outputs": [
    {
     "name": "stdout",
     "output_type": "stream",
     "text": [
      "Solution obtenue:\n",
      "\t benefice = 9.5\n",
      "\n",
      "\t Pour la demande 1 : Il faut prendre 2.5 unité pour le fluide 1 du magasin 1\n",
      "\t Pour la demande 2 : Il faut prendre 0.0 unité pour le fluide 1 du magasin 1\n",
      "\n",
      "\n",
      "\t Pour la demande 1 : Il faut prendre 1.0 unité pour le fluide 2 du magasin 1\n",
      "\t Pour la demande 2 : Il faut prendre 0.0 unité pour le fluide 2 du magasin 1\n",
      "\n",
      "\n",
      "\t Pour la demande 1 : Il faut prendre 0.5 unité pour le fluide 1 du magasin 2\n",
      "\t Pour la demande 2 : Il faut prendre 0.0 unité pour le fluide 1 du magasin 2\n",
      "\n",
      "\n",
      "\t Pour la demande 1 : Il faut prendre 1.0 unité pour le fluide 2 du magasin 2\n",
      "\t Pour la demande 2 : Il faut prendre 0.0 unité pour le fluide 2 du magasin 2\n",
      "\n",
      "\n",
      "\t Pour la demande 1 : Il faut prendre 0.0 unité pour le fluide 1 du magasin 3\n",
      "\t Pour la demande 2 : Il faut prendre 0.0 unité pour le fluide 1 du magasin 3\n",
      "\n",
      "\n",
      "\t Pour la demande 1 : Il faut prendre 1.0 unité pour le fluide 2 du magasin 3\n",
      "\t Pour la demande 2 : Il faut prendre 0.0 unité pour le fluide 2 du magasin 3\n",
      "\n",
      "\n"
     ]
    }
   ],
   "source": [
    "# print solution\n",
    "println(\"Solution obtenue:\")\n",
    "println(\"\\t benefice = $(objective_value(model))\\n\")\n",
    "for i in 1 : n_magasins\n",
    "    for j in 1 : n_fluides\n",
    "        for k in 1 : n_demandes\n",
    "            println(\"\\t Pour la demande $k : Il faut prendre $(value(quantites[i, j, k])) unité pour le fluide $j du magasin $i\")\n",
    "        end\n",
    "        println(\"\\n\")\n",
    "    end\n",
    "end"
   ]
  }
 ],
 "metadata": {
  "kernelspec": {
   "display_name": "Julia 1.5.2",
   "language": "julia",
   "name": "julia-1.5"
  },
  "language_info": {
   "file_extension": ".jl",
   "mimetype": "application/julia",
   "name": "julia",
   "version": "1.5.2"
  }
 },
 "nbformat": 4,
 "nbformat_minor": 4
}
