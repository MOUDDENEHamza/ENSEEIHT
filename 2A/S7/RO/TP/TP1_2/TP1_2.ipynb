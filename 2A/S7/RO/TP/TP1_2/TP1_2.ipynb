{
 "cells": [
  {
   "cell_type": "markdown",
   "metadata": {},
   "source": [
    "<center>\n",
    "    <h1>Recherche Opérationnelle : TP1 et 2</h1>\n",
    "    <h2>Hamza Mouddene</h2>\n",
    "    <h2>Anass Tyoubi</h2>\n",
    "</center>"
   ]
  },
  {
   "cell_type": "markdown",
   "metadata": {},
   "source": [
    "## 1 Exemple de Modélisation en PL(NE)\n",
    "***\n",
    "\n",
    "Un nouveau client se propose d’acquérir la production de ciment de l’usine ALPHA à des prix plus avantageux que le marché, notamment 55 euros pour le type 1 et 100 pour le type 2, à condition de garantir une livraison quotidienne d’au moins 10 tonnes dont au moins 5 tonnes de ciment de type 1.\n",
    "\n",
    "#### Modélisation et résolution du problème"
   ]
  },
  {
   "cell_type": "code",
   "execution_count": 1,
   "metadata": {},
   "outputs": [
    {
     "name": "stderr",
     "output_type": "stream",
     "text": [
      "\u001b[32m\u001b[1m   Updating\u001b[22m\u001b[39m registry at `~/.julia/registries/General`\n",
      "######################################################################### 100,0%\n",
      "\u001b[32m\u001b[1m  Resolving\u001b[22m\u001b[39m package versions...\n",
      "\u001b[32m\u001b[1mNo Changes\u001b[22m\u001b[39m to `~/.julia/environments/v1.5/Project.toml`\n",
      "\u001b[32m\u001b[1mNo Changes\u001b[22m\u001b[39m to `~/.julia/environments/v1.5/Manifest.toml`\n",
      "\u001b[32m\u001b[1m  Resolving\u001b[22m\u001b[39m package versions...\n",
      "\u001b[32m\u001b[1mNo Changes\u001b[22m\u001b[39m to `~/.julia/environments/v1.5/Project.toml`\n",
      "\u001b[32m\u001b[1mNo Changes\u001b[22m\u001b[39m to `~/.julia/environments/v1.5/Manifest.toml`\n"
     ]
    }
   ],
   "source": [
    "#importer les packages utiles, le manager de package Pkg etant un package\n",
    "import Pkg; Pkg.add(\"Cbc\")\n",
    "Pkg.add(\"JuMP\")"
   ]
  },
  {
   "cell_type": "code",
   "execution_count": 2,
   "metadata": {},
   "outputs": [
    {
     "name": "stdout",
     "output_type": "stream",
     "text": [
      "Welcome to the CBC MILP Solver \n",
      "Version: 2.10.3 \n",
      "Build Date: Jan  1 1970 \n",
      "\n",
      "command line - Cbc_C_Interface -solve -quit (default strategy 1)\n",
      "Presolve 2 (0) rows, 2 (0) columns and 4 (0) elements\n",
      "0  Obj -0 Dual inf 120 (2)\n",
      "0  Obj -0 Dual inf 120 (2)\n",
      "2  Obj 1137.5\n",
      "Optimal - objective value 1137.5\n",
      "Optimal objective 1137.5 - 2 iterations time 0.002\n",
      "Total time (CPU seconds):       0.00   (Wallclock seconds):       0.11\n",
      "\n"
     ]
    }
   ],
   "source": [
    "# fonctionne pour JuMP version 0.21.5\n",
    "using Cbc\n",
    "using JuMP\n",
    "\n",
    "# data\n",
    "N = 2 # nombre de ciments disponibles\n",
    "c = [50,70] # prix de vente par ciment\n",
    "b = [360,480] # temps de disponibilité du four et de l'atelier\n",
    "A = [40 12;20 30] # temps nécessaire de calcination (four) et de broyage (atelier) par ciment\n",
    "\n",
    "# set optimizer\n",
    "model = Model(Cbc.Optimizer)\n",
    "\n",
    "# define variables\n",
    "@variable(model, ciment[1:N] >= 0)\n",
    "\n",
    "# define objective function\n",
    "@objective(model, Max, sum(c[i]*ciment[i] for i in 1:N))\n",
    "\n",
    "# define constraints\n",
    "for i in 1:length(b)\n",
    "    @constraint(model, sum(A[i,j]*ciment[j] for j in 1:N) <= b[i])\n",
    "end\n",
    "\n",
    "# run optimization\n",
    "optimize!(model)"
   ]
  },
  {
   "cell_type": "markdown",
   "metadata": {},
   "source": [
    "#### Tests avec l’instance disponible sur le sujet"
   ]
  },
  {
   "cell_type": "code",
   "execution_count": 3,
   "metadata": {},
   "outputs": [
    {
     "name": "stdout",
     "output_type": "stream",
     "text": [
      "Solution obtenue:\n",
      "\t benefice = 1137.5\n",
      "\t quantite de ciment 1 = 5.249999999999999\n",
      "\t quantite de ciment 2 = 12.5\n"
     ]
    }
   ],
   "source": [
    "# print solution\n",
    "println(\"Solution obtenue:\")\n",
    "println(\"\\t benefice = $(objective_value(model))\")\n",
    "for i in 1:N\n",
    "    println(\"\\t quantite de ciment $i = $(value(ciment[i]))\")\n",
    "end"
   ]
  },
  {
   "cell_type": "markdown",
   "metadata": {},
   "source": [
    "## 2 Applications en optimisation pour l’e-commerce\n",
    "***\n",
    "\n",
    "Parmi les problématiques d’optimisation émergeant en e-commerce, se trouvent l’affectation de commandes de clients aux magasins, compte-tenu des coûts associés à la livraison des colis, à la préparation des commandes et à la gestion des différents stocks. Nous nous intéresserons particulièrement au problème d’affectation de commandes et tournées de véhicules pour différents magasins d’une même enseigne ou franchise. Nous nous plaçons\n",
    "donc dans la peau du gestionnaire de l’ensemble des magasins, qui doit d´epenser le moins\n",
    "d’argent possible pour satisfaire les demandes des clients.\n",
    "\n",
    "### 2.1 Cas particulier 1\n",
    "***\n",
    "\n",
    "Les tableaux (a), (b) et (c) représentent à titre d’exemple des demandes en fluide émanant\n",
    "de différentes commandes et les coûts pour qu’une unité de fluide soit disponible dans un\n",
    "magasin. Chaque magasin dispose d’un volume de stockage limité.\n",
    "\n",
    "| A  | F1 | F2 |\n",
    "|----|----|----|\n",
    "| D1 | 2  | 0  |\n",
    "| D2 | 1  | 3  |\n",
    "\n",
    "| B  | F1  | F2 |\n",
    "|----|-----|----|\n",
    "| M1 | 2.5 | 1  |\n",
    "| M2 | 1   | 2  |\n",
    "| M3 | 2   | 1  |\n",
    "\n",
    "\n",
    "| C  | F1 | F2 |\n",
    "|----|----|----|\n",
    "| M1 | 1  | 1  |\n",
    "| M2 | 2  | 3  |\n",
    "| M3 | 3  | 2  |\n",
    "\n",
    "#### Modélisation et résolution du problème"
   ]
  },
  {
   "cell_type": "code",
   "execution_count": 4,
   "metadata": {},
   "outputs": [
    {
     "name": "stdout",
     "output_type": "stream",
     "text": [
      "Welcome to the CBC MILP Solver \n",
      "Version: 2.10.3 \n",
      "Build Date: Jan  1 1970 \n",
      "\n",
      "command line - Cbc_C_Interface -solve -quit (default strategy 1)\n",
      "Presolve 2 (-6) rows, 6 (-6) columns and 6 (-18) elements\n",
      "0  Obj 2.6999999 Primal inf 5.099998 (2)\n",
      "2  Obj 9.5\n",
      "Optimal - objective value 9.5\n",
      "After Postsolve, objective 9.5, infeasibilities - dual 0 (0), primal 0 (0)\n",
      "Optimal objective 9.5 - 2 iterations time 0.002, Presolve 0.00\n",
      "Total time (CPU seconds):       0.00   (Wallclock seconds):       0.00\n",
      "\n"
     ]
    }
   ],
   "source": [
    "# fonctionne pour JuMP version 0.21.5\n",
    "using Cbc\n",
    "using JuMP\n",
    "\n",
    "# data\n",
    "n_fluides = 2               # Nombre de fluides disponibles\n",
    "n_demandes = 2              # Nombre de demandes \n",
    "n_magasins = 3              # Nombre de magasins\n",
    "demandes = [2 0; 1 3]       # Les demandes figurantes dans le tableau (a)\n",
    "stocks = [2.5 1; 1 2; 2 1]  # Le stock par magasin figurant dans le tableau (b)\n",
    "couts = [1 1; 2 3; 3 2]     # Le cout par fluide pour les différents magasins figurant dans le tableau (c)\n",
    "\n",
    "# set optimizer\n",
    "model = Model(Cbc.Optimizer)\n",
    "\n",
    "# define variables\n",
    "@variable(model, quantites[1 : n_magasins, 1 : n_fluides, 1 : n_demandes] >= 0)\n",
    "\n",
    "# define objective function\n",
    "A = sum(quantites[:, :, k] for k in 1 : n_demandes)\n",
    "B = A .* couts\n",
    "@objective(model, Min, sum(B))\n",
    "\n",
    "# define constraints\n",
    "for i in 1 : n_fluides \n",
    "    @constraint(model, sum(A[:, i]) >= sum(demandes[:, i]))\n",
    "end\n",
    "\n",
    "for i in 1 : n_magasins\n",
    "    for j in 1 : n_fluides\n",
    "        @constraint(model, A[i, j] <= stocks[i, j])\n",
    "    end\n",
    "end\n",
    "\n",
    "# run optimization\n",
    "optimize!(model)"
   ]
  },
  {
   "cell_type": "markdown",
   "metadata": {},
   "source": [
    "#### Tests avec l’instance disponible sur le sujet"
   ]
  },
  {
   "cell_type": "code",
   "execution_count": 5,
   "metadata": {},
   "outputs": [
    {
     "name": "stdout",
     "output_type": "stream",
     "text": [
      "Solution obtenue:\n",
      "\t benefice = 9.5\n",
      "\n",
      "\t Pour la demande 1 : Il faut prendre 2.5 unité pour le fluide 1 du magasin 1\n",
      "\t Pour la demande 2 : Il faut prendre 0.0 unité pour le fluide 1 du magasin 1\n",
      "\t Pour la demande 1 : Il faut prendre 1.0 unité pour le fluide 2 du magasin 1\n",
      "\t Pour la demande 2 : Il faut prendre 0.0 unité pour le fluide 2 du magasin 1\n",
      "\t Pour la demande 1 : Il faut prendre 0.5 unité pour le fluide 1 du magasin 2\n",
      "\t Pour la demande 2 : Il faut prendre 0.0 unité pour le fluide 1 du magasin 2\n",
      "\t Pour la demande 1 : Il faut prendre 1.0 unité pour le fluide 2 du magasin 2\n",
      "\t Pour la demande 2 : Il faut prendre 0.0 unité pour le fluide 2 du magasin 2\n",
      "\t Pour la demande 1 : Il faut prendre 0.0 unité pour le fluide 1 du magasin 3\n",
      "\t Pour la demande 2 : Il faut prendre 0.0 unité pour le fluide 1 du magasin 3\n",
      "\t Pour la demande 1 : Il faut prendre 1.0 unité pour le fluide 2 du magasin 3\n",
      "\t Pour la demande 2 : Il faut prendre 0.0 unité pour le fluide 2 du magasin 3\n"
     ]
    }
   ],
   "source": [
    "# print solution\n",
    "println(\"Solution obtenue:\")\n",
    "println(\"\\t benefice = $(objective_value(model))\\n\")\n",
    "for i in 1 : n_magasins\n",
    "    for j in 1 : n_fluides\n",
    "        for k in 1 : n_demandes\n",
    "            println(\"\\t Pour la demande $k : Il faut prendre $(value(quantites[i, j, k])) unité pour le fluide $j du magasin $i\")\n",
    "        end\n",
    "    end\n",
    "end"
   ]
  },
  {
   "cell_type": "markdown",
   "metadata": {},
   "source": [
    "### 2.2 Cas particulier 2\n",
    "***\n",
    "\n",
    "En réalité, il ne s’agit pas de fluide mais de produits préconditionnés et une commande\n",
    "d’un client peut être constituée de plusieurs produits en quantités différentes. Le problème\n",
    "d’affectation consiste à déterminer le nombre de produits de chaque type livrés par chaque\n",
    "magasin à chaque client. Modifier et résoudre la formulation précédente pour tenir compte\n",
    "de la discrétisation de la demande. Tester avec différents jeux de données.\n",
    "\n",
    "#### Modélisation et résolution du problème"
   ]
  },
  {
   "cell_type": "code",
   "execution_count": 6,
   "metadata": {},
   "outputs": [
    {
     "name": "stdout",
     "output_type": "stream",
     "text": [
      "Welcome to the CBC MILP Solver \n",
      "Version: 2.10.3 \n",
      "Build Date: Jan  1 1970 \n",
      "\n",
      "command line - Cbc_C_Interface -solve -quit (default strategy 1)\n",
      "Continuous objective value is 9.5 - 0.00 seconds\n",
      "Cgl0004I processed model has 2 rows, 6 columns (6 integer (3 of which binary)) and 6 elements\n",
      "Cbc0012I Integer solution of 10 found by DiveCoefficient after 0 iterations and 0 nodes (0.00 seconds)\n",
      "Cbc0001I Search completed - best objective 10, took 0 iterations and 0 nodes (0.00 seconds)\n",
      "Cbc0035I Maximum depth 0, 0 variables fixed on reduced cost\n",
      "Cuts at root node changed objective from 10 to 10\n",
      "Probing was tried 0 times and created 0 cuts of which 0 were active after adding rounds of cuts (0.000 seconds)\n",
      "Gomory was tried 0 times and created 0 cuts of which 0 were active after adding rounds of cuts (0.000 seconds)\n",
      "Knapsack was tried 0 times and created 0 cuts of which 0 were active after adding rounds of cuts (0.000 seconds)\n",
      "Clique was tried 0 times and created 0 cuts of which 0 were active after adding rounds of cuts (0.000 seconds)\n",
      "MixedIntegerRounding2 was tried 0 times and created 0 cuts of which 0 were active after adding rounds of cuts (0.000 seconds)\n",
      "FlowCover was tried 0 times and created 0 cuts of which 0 were active after adding rounds of cuts (0.000 seconds)\n",
      "TwoMirCuts was tried 0 times and created 0 cuts of which 0 were active after adding rounds of cuts (0.000 seconds)\n",
      "ZeroHalf was tried 0 times and created 0 cuts of which 0 were active after adding rounds of cuts (0.000 seconds)\n",
      "\n",
      "Result - Optimal solution found\n",
      "\n",
      "Objective value:                10.00000000\n",
      "Enumerated nodes:               0\n",
      "Total iterations:               0\n",
      "Time (CPU seconds):             0.00\n",
      "Time (Wallclock seconds):       0.06\n",
      "\n",
      "Total time (CPU seconds):       0.00   (Wallclock seconds):       0.06\n",
      "\n"
     ]
    }
   ],
   "source": [
    "# fonctionne pour JuMP version 0.21.5\n",
    "using Cbc\n",
    "using JuMP\n",
    "\n",
    "# data\n",
    "n_fluides = 2               # Nombre de fluides disponibles\n",
    "n_demandes = 2              # Nombre de demandes \n",
    "n_magasins = 3              # Nombre de magasins\n",
    "demandes = [2 0; 1 3]       # Les demandes figurantes dans le tableau (a)\n",
    "stocks = [2.5 1; 1 2; 2 1]  # Le stock par magasin figurant dans le tableau (b)\n",
    "couts = [1 1; 2 3; 3 2]     # Le cout par fluide pour les différents magasins figurant dans le tableau (c)\n",
    "\n",
    "# set optimizer\n",
    "model = Model(Cbc.Optimizer)\n",
    "\n",
    "# define variables\n",
    "@variable(model, quantites[1 : n_magasins, 1 : n_fluides, 1 : n_demandes] >= 0, Int)\n",
    "\n",
    "# define objective function\n",
    "A = sum(quantites[:, :, k] for k in 1 : n_demandes)\n",
    "B = A .* couts\n",
    "@objective(model, Min, sum(B))\n",
    "\n",
    "# define constraints\n",
    "for i in 1 : n_fluides \n",
    "    @constraint(model, sum(A[:, i]) >= sum(demandes[:, i]))\n",
    "end\n",
    "\n",
    "for i in 1 : n_magasins\n",
    "    for j in 1 : n_fluides\n",
    "        @constraint(model, A[i, j] <= stocks[i, j])\n",
    "    end\n",
    "end\n",
    "\n",
    "# run optimization\n",
    "optimize!(model)"
   ]
  },
  {
   "cell_type": "markdown",
   "metadata": {},
   "source": [
    "#### Tests avec différents jeux de données"
   ]
  },
  {
   "cell_type": "code",
   "execution_count": 7,
   "metadata": {},
   "outputs": [
    {
     "name": "stdout",
     "output_type": "stream",
     "text": [
      "Solution obtenue:\n",
      "\t benefice = 10.0\n",
      "\n",
      "\t Pour la demande 1 : Il faut prendre 2.0 unité pour le fluide 1 du magasin 1\n",
      "\t Pour la demande 2 : Il faut prendre 0.0 unité pour le fluide 1 du magasin 1\n",
      "\n",
      "\n",
      "\t Pour la demande 1 : Il faut prendre 1.0 unité pour le fluide 2 du magasin 1\n",
      "\t Pour la demande 2 : Il faut prendre 0.0 unité pour le fluide 2 du magasin 1\n",
      "\n",
      "\n",
      "\t Pour la demande 1 : Il faut prendre 1.0 unité pour le fluide 1 du magasin 2\n",
      "\t Pour la demande 2 : Il faut prendre 0.0 unité pour le fluide 1 du magasin 2\n",
      "\n",
      "\n",
      "\t Pour la demande 1 : Il faut prendre 1.0 unité pour le fluide 2 du magasin 2\n",
      "\t Pour la demande 2 : Il faut prendre 0.0 unité pour le fluide 2 du magasin 2\n",
      "\n",
      "\n",
      "\t Pour la demande 1 : Il faut prendre 0.0 unité pour le fluide 1 du magasin 3\n",
      "\t Pour la demande 2 : Il faut prendre 0.0 unité pour le fluide 1 du magasin 3\n",
      "\n",
      "\n",
      "\t Pour la demande 1 : Il faut prendre 1.0 unité pour le fluide 2 du magasin 3\n",
      "\t Pour la demande 2 : Il faut prendre 0.0 unité pour le fluide 2 du magasin 3\n",
      "\n",
      "\n"
     ]
    }
   ],
   "source": [
    "# print solution\n",
    "println(\"Solution obtenue:\")\n",
    "println(\"\\t benefice = $(objective_value(model))\\n\")\n",
    "for i in 1 : n_magasins\n",
    "    for j in 1 : n_fluides\n",
    "        for k in 1 : n_demandes\n",
    "            println(\"\\t Pour la demande $k : Il faut prendre $(value(quantites[i, j, k])) unité pour le fluide $j du magasin $i\")\n",
    "        end\n",
    "        println(\"\\n\")\n",
    "    end\n",
    "end"
   ]
  },
  {
   "cell_type": "markdown",
   "metadata": {},
   "source": [
    "### 2.3 Cas particulier 3\n",
    "***\n",
    "\n",
    "A présent on souhaite prendre en compte les coûts d’expédition des colis des magasins aux\n",
    "clients. Chaque magasin expédie, vers chaque client qu’il dessert, un unique colis contenant\n",
    "tous les produits fournis par ce magasin à ce client. Modifier la formulation précédente pour\n",
    "modéliser le problème résultant et résoudre avec les données du tableau (d). Tester ensuite\n",
    "avec différents jeux de données.\n",
    "\n",
    "| D  | M1 | M2 | M3 |\n",
    "|----|----|----|----|\n",
    "| D1 | 1  | 0  | 0  |\n",
    "| D2 | 0  | 2  | 1  |\n",
    "\n",
    "#### Modélisation et résolution du problème"
   ]
  },
  {
   "cell_type": "code",
   "execution_count": 8,
   "metadata": {},
   "outputs": [
    {
     "name": "stdout",
     "output_type": "stream",
     "text": [
      "Welcome to the CBC MILP Solver \n",
      "Version: 2.10.3 \n",
      "Build Date: Jan  1 1970 \n",
      "\n",
      "command line - Cbc_C_Interface -solve -quit (default strategy 1)\n",
      "Continuous objective value is 11.75 - 0.00 seconds\n",
      "Cgl0003I 0 fixed, 0 tightened bounds, 10 strengthened rows, 0 substitutions\n",
      "Cgl0004I processed model has 20 rows, 18 columns (18 integer (12 of which binary)) and 67 elements\n",
      "Cbc0012I Integer solution of 14 found by DiveCoefficient after 0 iterations and 0 nodes (0.03 seconds)\n",
      "Cbc0038I Full problem 20 rows 18 columns, reduced to 0 rows 0 columns\n",
      "Cbc0006I The LP relaxation is infeasible or too expensive\n",
      "Cbc0013I At root node, 0 cuts changed objective from 13 to 14 in 1 passes\n",
      "Cbc0014I Cut generator 0 (Probing) - 0 row cuts average 0.0 elements, 3 column cuts (3 active)  in 0.000 seconds - new frequency is 1\n",
      "Cbc0014I Cut generator 1 (Gomory) - 0 row cuts average 0.0 elements, 0 column cuts (0 active)  in 0.000 seconds - new frequency is -100\n",
      "Cbc0014I Cut generator 2 (Knapsack) - 0 row cuts average 0.0 elements, 0 column cuts (0 active)  in 0.000 seconds - new frequency is -100\n",
      "Cbc0014I Cut generator 3 (Clique) - 0 row cuts average 0.0 elements, 0 column cuts (0 active)  in 0.000 seconds - new frequency is -100\n",
      "Cbc0014I Cut generator 4 (MixedIntegerRounding2) - 0 row cuts average 0.0 elements, 0 column cuts (0 active)  in 0.000 seconds - new frequency is -100\n",
      "Cbc0014I Cut generator 5 (FlowCover) - 0 row cuts average 0.0 elements, 0 column cuts (0 active)  in 0.000 seconds - new frequency is -100\n",
      "Cbc0014I Cut generator 7 (ZeroHalf) - 0 row cuts average 0.0 elements, 0 column cuts (0 active)  in 0.000 seconds - new frequency is -100\n",
      "Cbc0001I Search completed - best objective 14, took 0 iterations and 0 nodes (0.03 seconds)\n",
      "Cbc0035I Maximum depth 0, 3 variables fixed on reduced cost\n",
      "Cuts at root node changed objective from 13 to 14\n",
      "Probing was tried 1 times and created 3 cuts of which 0 were active after adding rounds of cuts (0.000 seconds)\n",
      "Gomory was tried 0 times and created 0 cuts of which 0 were active after adding rounds of cuts (0.000 seconds)\n",
      "Knapsack was tried 0 times and created 0 cuts of which 0 were active after adding rounds of cuts (0.000 seconds)\n",
      "Clique was tried 0 times and created 0 cuts of which 0 were active after adding rounds of cuts (0.000 seconds)\n",
      "MixedIntegerRounding2 was tried 0 times and created 0 cuts of which 0 were active after adding rounds of cuts (0.000 seconds)\n",
      "FlowCover was tried 0 times and created 0 cuts of which 0 were active after adding rounds of cuts (0.000 seconds)\n",
      "TwoMirCuts was tried 0 times and created 0 cuts of which 0 were active after adding rounds of cuts (0.000 seconds)\n",
      "ZeroHalf was tried 0 times and created 0 cuts of which 0 were active after adding rounds of cuts (0.000 seconds)\n",
      "\n",
      "Result - Optimal solution found\n",
      "\n",
      "Objective value:                14.00000000\n",
      "Enumerated nodes:               0\n",
      "Total iterations:               0\n",
      "Time (CPU seconds):             0.03\n",
      "Time (Wallclock seconds):       0.04\n",
      "\n",
      "Total time (CPU seconds):       0.03   (Wallclock seconds):       0.04\n",
      "\n"
     ]
    }
   ],
   "source": [
    "# fonctionne pour JuMP version 0.21.5\n",
    "using Cbc\n",
    "using JuMP\n",
    "\n",
    "# data\n",
    "n_fluides = 2                      # Nombre de fluides disponibles\n",
    "n_demandes = 2                     # Nombre de demandes \n",
    "n_magasins = 3                     # Nombre de magasins\n",
    "demandes = [2 0; 1 3]              # Les demandes figurantes dans le tableau (a)\n",
    "stocks = [2.5 1; 1 2; 2 1]         # Le stock par magasin figurant dans le tableau (b)\n",
    "couts = [1 1; 2 3; 3 2]            # Le cout par fluide pour les différents magasins figurant dans le tableau (c)\n",
    "expedition = [1 0; 0 2; 0 1]       # Le cout d'expédition d'un colis figurant sur le tableau (d)\n",
    "\n",
    "# set optimizer\n",
    "model = Model(Cbc.Optimizer)\n",
    "\n",
    "# define variables\n",
    "@variable(model, quantites[1 : n_magasins, 1 : n_fluides, 1 : n_demandes] >= 0, Int)\n",
    "@variable(model, demandes_magasin[1 : n_magasins, 1 : n_demandes], Bin)\n",
    "\n",
    "# define objective function\n",
    "A = sum(quantites[:, :, k] for k in 1 : n_demandes)\n",
    "B = A .* couts + demandes_magasin .* expedition\n",
    "@objective(model, Min, sum(B))\n",
    "\n",
    "# define constraints\n",
    "for i in 1 : n_fluides\n",
    "    @constraint(model, sum(A[:, i]) == sum(demandes[:, i]))\n",
    "end\n",
    "\n",
    "for i in 1 : n_magasins\n",
    "    for j in 1 : n_fluides\n",
    "        @constraint(model, (A[i, j] <= stocks[i, j]))\n",
    "    end\n",
    "end\n",
    "\n",
    "for i in 1 : n_magasins\n",
    "    for j in 1 : n_fluides\n",
    "        @constraint(model, A[i, j] / sum(demandes[j, :]) <= demandes_magasin[i, j])\n",
    "        @constraint(model,demandes_magasin[i, j] <= sum(quantites[i, :, j]))\n",
    "    end\n",
    "end\n",
    "\n",
    "# run optimization\n",
    "optimize!(model)"
   ]
  },
  {
   "cell_type": "markdown",
   "metadata": {},
   "source": [
    "#### Tests avec l’instance disponible sur le sujet"
   ]
  },
  {
   "cell_type": "code",
   "execution_count": 9,
   "metadata": {},
   "outputs": [
    {
     "name": "stdout",
     "output_type": "stream",
     "text": [
      "Solution obtenue:\n",
      "\n",
      "\t benefice = 14.0\n",
      "\n",
      "\t Pour la demande 1 : Il faut prendre 0.0 unité pour le fluide 1 du magasin 1\n",
      "\t Pour la demande 2 : Il faut prendre 2.0 unité pour le fluide 1 du magasin 1\n",
      "\n",
      "\n",
      "\t Pour la demande 1 : Il faut prendre 1.0 unité pour le fluide 2 du magasin 1\n",
      "\t Pour la demande 2 : Il faut prendre 0.0 unité pour le fluide 2 du magasin 1\n",
      "\n",
      "\n",
      "\t Pour la demande 1 : Il faut prendre 1.0 unité pour le fluide 1 du magasin 2\n",
      "\t Pour la demande 2 : Il faut prendre 0.0 unité pour le fluide 1 du magasin 2\n",
      "\n",
      "\n",
      "\t Pour la demande 1 : Il faut prendre 0.0 unité pour le fluide 2 du magasin 2\n",
      "\t Pour la demande 2 : Il faut prendre 1.0 unité pour le fluide 2 du magasin 2\n",
      "\n",
      "\n",
      "\t Pour la demande 1 : Il faut prendre 0.0 unité pour le fluide 1 du magasin 3\n",
      "\t Pour la demande 2 : Il faut prendre 0.0 unité pour le fluide 1 du magasin 3\n",
      "\n",
      "\n",
      "\t Pour la demande 1 : Il faut prendre 0.0 unité pour le fluide 2 du magasin 3\n",
      "\t Pour la demande 2 : Il faut prendre 1.0 unité pour le fluide 2 du magasin 3\n",
      "\n",
      "\n"
     ]
    }
   ],
   "source": [
    "# print solution\n",
    "println(\"Solution obtenue:\\n\")\n",
    "println(\"\\t benefice = $(objective_value(model))\\n\")\n",
    "for i in 1 : n_magasins\n",
    "    for j in 1 : n_fluides\n",
    "        for k in 1 : n_demandes\n",
    "            println(\"\\t Pour la demande $k : Il faut prendre $(value(quantites[i, j, k])) unité pour le fluide $j du magasin $i\")\n",
    "        end\n",
    "        println(\"\\n\")\n",
    "    end\n",
    "end"
   ]
  },
  {
   "cell_type": "markdown",
   "metadata": {},
   "source": [
    "###  2.4 Cahier des charges du problème général\n",
    "***\n",
    "\n",
    "L’objectif est de mod´eliser un problème de minimisation des trajets de livraisons des\n",
    "commandes (i.e. distance à parcourir) pour les livreurs des magasins. On fera donc abstraction des autres coûts pour se focaliser sur un problềme mono-objectif. Le PLNE proposé\n",
    "doit prendre en entrée les données suivantes : les commandes à satisfaire (quantités et types\n",
    "de produits), les niveaux de stocks disponibles au sein des différents magasins, les temps de\n",
    "trajet entre les différents sites. A partir de ces données, le modèle doit pouvoir d´eterminer\n",
    "\n",
    "comment répartir les commandes entre les magasins et quelle est la tournée de livraison que\n",
    "doit réaliser le livreur de chaque magasin.\n",
    "\n",
    "#### Modélisation et résolution du problème"
   ]
  },
  {
   "cell_type": "code",
   "execution_count": 38,
   "metadata": {},
   "outputs": [
    {
     "name": "stdout",
     "output_type": "stream",
     "text": [
      "Welcome to the CBC MILP Solver \n",
      "Version: 2.10.3 \n",
      "Build Date: Jan  1 1970 \n",
      "\n",
      "command line - Cbc_C_Interface -solve -quit (default strategy 1)\n",
      "Continuous objective value is 3035.17 - 0.00 seconds\n",
      "Cgl0002I 12 variables fixed\n",
      "Cgl0004I processed model has 102 rows, 75 columns (75 integer (64 of which binary)) and 1350 elements\n",
      "Cbc0012I Integer solution of 4133 found by DiveCoefficient after 1558 iterations and 0 nodes (0.28 seconds)\n",
      "Cbc0031I 27 added rows had average density of 12.444444\n",
      "Cbc0013I At root node, 27 cuts changed objective from 3035.1667 to 4132.9951 in 64 passes\n",
      "Cbc0014I Cut generator 0 (Probing) - 0 row cuts average 0.0 elements, 0 column cuts (0 active)  in 0.017 seconds - new frequency is -100\n",
      "Cbc0014I Cut generator 1 (Gomory) - 1367 row cuts average 69.9 elements, 0 column cuts (0 active)  in 0.028 seconds - new frequency is 1\n",
      "Cbc0014I Cut generator 2 (Knapsack) - 169 row cuts average 6.0 elements, 0 column cuts (0 active)  in 0.020 seconds - new frequency is 1\n",
      "Cbc0014I Cut generator 3 (Clique) - 0 row cuts average 0.0 elements, 0 column cuts (0 active)  in 0.001 seconds - new frequency is -100\n",
      "Cbc0014I Cut generator 4 (MixedIntegerRounding2) - 244 row cuts average 26.1 elements, 0 column cuts (0 active)  in 0.029 seconds - new frequency is 1\n",
      "Cbc0014I Cut generator 5 (FlowCover) - 0 row cuts average 0.0 elements, 0 column cuts (0 active)  in 0.015 seconds - new frequency is -100\n",
      "Cbc0014I Cut generator 6 (TwoMirCuts) - 261 row cuts average 41.8 elements, 0 column cuts (0 active)  in 0.012 seconds - new frequency is 1\n",
      "Cbc0001I Search completed - best objective 4133, took 1558 iterations and 0 nodes (0.28 seconds)\n",
      "Cbc0035I Maximum depth 0, 0 variables fixed on reduced cost\n",
      "Cuts at root node changed objective from 3035.17 to 4133\n",
      "Probing was tried 64 times and created 0 cuts of which 0 were active after adding rounds of cuts (0.017 seconds)\n",
      "Gomory was tried 64 times and created 1367 cuts of which 0 were active after adding rounds of cuts (0.028 seconds)\n",
      "Knapsack was tried 64 times and created 169 cuts of which 0 were active after adding rounds of cuts (0.020 seconds)\n",
      "Clique was tried 64 times and created 0 cuts of which 0 were active after adding rounds of cuts (0.001 seconds)\n",
      "MixedIntegerRounding2 was tried 64 times and created 244 cuts of which 0 were active after adding rounds of cuts (0.029 seconds)\n",
      "FlowCover was tried 64 times and created 0 cuts of which 0 were active after adding rounds of cuts (0.015 seconds)\n",
      "TwoMirCuts was tried 64 times and created 261 cuts of which 0 were active after adding rounds of cuts (0.012 seconds)\n",
      "ZeroHalf was tried 1 times and created 0 cuts of which 0 were active after adding rounds of cuts (0.000 seconds)\n",
      "\n",
      "Result - Optimal solution found\n",
      "\n",
      "Objective value:                4133.00000000\n",
      "Enumerated nodes:               0\n",
      "Total iterations:               1558\n",
      "Time (CPU seconds):             0.29\n",
      "Time (Wallclock seconds):       0.31\n",
      "\n",
      "Total time (CPU seconds):       0.29   (Wallclock seconds):       0.31\n",
      "\n"
     ]
    }
   ],
   "source": [
    "using LinearAlgebra\n",
    "include(\"2_4.jl\")\n",
    "\n",
    "# data\n",
    "inputfilepath = \"data_2-4\"\n",
    "inputfilename = \"Data_test_5_2_3.txt\"\n",
    "nb_dem, nb_prod, nb_mag, nb_noeuds, S, Q, R = read_data_24(inputfilepath, inputfilename);\n",
    "\n",
    "# set Optimizer\n",
    "model = Model(Cbc.Optimizer)\n",
    "\n",
    "# define Variables\n",
    "@variable(model, ID[1:(1+nb_dem),1:(1+nb_dem), 1:nb_mag],Bin)\n",
    "@variable(model, PM[1:nb_mag, 1:nb_prod, 1:nb_dem] >= 0,Int)\n",
    "\n",
    "\n",
    "# define Objective function                  \n",
    "@objective(model, Min, sum(reshape(sum(ID[2:(1+nb_dem),2:(1+nb_dem),:],dims = 3),nb_dem,nb_dem).*reduce(hcat,R[1+nb_mag:nb_dem+nb_mag])[1+nb_mag:nb_dem+nb_mag,:]\n",
    "                           )+sum((ID[2:1+nb_dem,1,:] + ID[1,2:1+nb_dem,:]).*reduce(hcat,R[1:nb_mag])[1+nb_mag:nb_mag+nb_dem,:]))\n",
    "\n",
    "# define Constraints\n",
    "for i in 1:nb_mag\n",
    "    @constraint(model, sum(ID[1,2:1+nb_dem,i]) <= sum(PM[i,:,:]))\n",
    "    @constraint(model, sum(PM[i,:,:]) /(1 + sum(S[i][:]))<= sum(ID[1,2:1+nb_dem,i]))\n",
    "    for j in 1:1+nb_dem\n",
    "        @constraint(model, sum(ID[j,:,i]) <= sum(PM[i,:,:]))\n",
    "        @constraint(model, sum(PM[i,:,:]) /(1 + sum(S[i][:]))<= sum(ID[j,:,i]))\n",
    "        @constraint(model, sum(ID[:,j,i]) <= sum(PM[i,:,:]))\n",
    "        @constraint(model, sum(PM[i,:,:]) /(1 + sum(S[i][:]))<= sum(ID[:,j,i]))\n",
    "    end\n",
    "    for j in 1:nb_dem \n",
    "        @constraint(model, sum(ID[j,1:j,i])+sum(ID[1:j,j,i]) <= 1)\n",
    "    end\n",
    "    @constraint(model, sum(ID[2:1+nb_dem,1,i]) <= sum(PM[i,:,:]))\n",
    "    @constraint(model, sum(PM[i,:,:]) /(1 + sum(S[i][:]))<= sum(ID[2:1+nb_dem,1,i]))\n",
    "    @constraint(model, tr(ID[:,:,i]) == 0)\n",
    "end\n",
    "\n",
    "for i in 1:nb_dem\n",
    "    for j in 1:nb_prod\n",
    "        @constraint(model, sum(PM[:,j,i]) == Q[i][j])\n",
    "    end\n",
    "end\n",
    "\n",
    "for i in 1:nb_mag\n",
    "    for j in 1:nb_prod\n",
    "        @constraint(model,sum(PM[i,j,:]) <= S[i][j])\n",
    "    end\n",
    "end\n",
    "\n",
    "for i in 1:nb_dem\n",
    "    for j in 1:nb_mag\n",
    "        @constraint(model,sum(ID[1+i,:,j]) <= sum(PM[j,:,i]))\n",
    "        @constraint(model,sum(ID[:,1+i,j]) <= sum(PM[j,:,i]))\n",
    "        @constraint(model, sum(PM[j,:,i]) /( 1 + sum(Q[i][:])) <= sum(ID[1+i,:,j]))\n",
    "        @constraint(model, sum(PM[j,:,i]) /( 1 + sum(Q[i][:])) <= sum(ID[:,1+i,j]))\n",
    "        \n",
    "    end\n",
    "end\n",
    "\n",
    "# run Optimization\n",
    "optimize!(model)"
   ]
  },
  {
   "cell_type": "markdown",
   "metadata": {},
   "source": [
    "#### Tests avec l’instance disponible sur le fichier data_2-4/Data_test_5_1_2.txt"
   ]
  },
  {
   "cell_type": "code",
   "execution_count": 35,
   "metadata": {},
   "outputs": [
    {
     "name": "stdout",
     "output_type": "stream",
     "text": [
      "Solution obtenue:\n",
      "\t Benefice = 4133.0\n",
      "\n"
     ]
    }
   ],
   "source": [
    "println(\"Solution obtenue:\")\n",
    "println(\"\\t Benefice = $(objective_value(model))\\n\")"
   ]
  },
  {
   "cell_type": "markdown",
   "metadata": {},
   "source": [
    "## 3 Bonus\n",
    "***\n",
    "\n",
    "Dans cette partie, on va modéliser avec Julia les versions génériques des problèmes vu en TD.\n",
    "\n",
    "### 3.1 Encore du ciment\n",
    "***\n",
    "\n",
    "Un nouveau client se propose d’acquérir la production de ciment de l’usine ALPHA à des prix plus avantageux que le marché, notamment 55 euros pour le type 1 et 100 pour le type 2, à condition de garantir une livraison quotidienne d’au moins 10 tonnes dont au moins 5 tonnes de ciment de type 1.\n",
    "\n",
    "#### Modélisation d'une forme générique"
   ]
  },
  {
   "cell_type": "code",
   "execution_count": 13,
   "metadata": {},
   "outputs": [
    {
     "name": "stdout",
     "output_type": "stream",
     "text": [
      "Welcome to the CBC MILP Solver \n",
      "Version: 2.10.3 \n",
      "Build Date: Jan  1 1970 \n",
      "\n",
      "command line - Cbc_C_Interface -solve -quit (default strategy 1)\n",
      "Presolve 3 (-2) rows, 2 (0) columns and 6 (-2) elements\n",
      "0  Obj 342.99801 Primal inf 3.6714561 (1) Dual inf 120 (2)\n",
      "2  Obj 1137.5\n",
      "Optimal - objective value 1137.5\n",
      "After Postsolve, objective 1137.5, infeasibilities - dual 0 (0), primal 0 (0)\n",
      "Optimal objective 1137.5 - 2 iterations time 0.002, Presolve 0.00\n",
      "Total time (CPU seconds):       0.00   (Wallclock seconds):       0.00\n",
      "\n"
     ]
    }
   ],
   "source": [
    "# fonctionne pour JuMP version 0.21.5\n",
    "using Cbc\n",
    "using JuMP\n",
    "\n",
    "# data\n",
    "Nb_ciment = 2 # Nombre de ciment\n",
    "C = [50; 70] # Coût ciment\n",
    "Temps = [40 20; 12 30]\n",
    "Temps_Limite = [360; 480]\n",
    "Seuil_Min = [5; 0] # Seuil Minimal Ciment\n",
    "Seuil = 10\n",
    "\n",
    "# set optimizer\n",
    "model = Model(Cbc.Optimizer)\n",
    "\n",
    "# define variables\n",
    "@variable(model, Ciment[1:Nb_ciment] >= 0)\n",
    "\n",
    "# define objective function\n",
    "@objective(model, Max, sum(C.*Ciment))\n",
    "\n",
    "# define constraints Four Limité d'utilisation / jour\n",
    "for i in 1:Nb_ciment\n",
    "    @constraint(model, sum(Temps[:,i].*Ciment) <= Temps_Limite[i])\n",
    "    @constraint(model, Ciment[i] >= Seuil_Min[i])\n",
    "end\n",
    "\n",
    "# define constraints Seuil Minimal Ciment\n",
    "@constraint(model, sum(Ciment) >= Seuil)\n",
    "\n",
    "# run optimization\n",
    "optimize!(model)"
   ]
  },
  {
   "cell_type": "markdown",
   "metadata": {},
   "source": [
    "#### Tests avec l’instance disponible sur le sujet"
   ]
  },
  {
   "cell_type": "code",
   "execution_count": 14,
   "metadata": {},
   "outputs": [
    {
     "name": "stdout",
     "output_type": "stream",
     "text": [
      "la solution est : \n",
      "\t coût = 1137.5\n",
      "\t Quantite de Ciment 1 = 5.249999999999999\n",
      "\t Quantite de Ciment 2 = 12.5\n"
     ]
    }
   ],
   "source": [
    "println(\"la solution est : \")\n",
    "println(\"\\t coût = $(objective_value(model))\")\n",
    "for i in 1:Nb_ciment\n",
    "    println(\"\\t Quantite de Ciment $i = $(value(Ciment[i]))\")\n",
    "end"
   ]
  },
  {
   "cell_type": "markdown",
   "metadata": {},
   "source": [
    "### 3.2 Des voitures\n",
    "***\n",
    "\n",
    "#### Modélisation d'une forme générique"
   ]
  },
  {
   "cell_type": "code",
   "execution_count": 17,
   "metadata": {},
   "outputs": [
    {
     "name": "stdout",
     "output_type": "stream",
     "text": [
      "Welcome to the CBC MILP Solver \n",
      "Version: 2.10.3 \n",
      "Build Date: Jan  1 1970 \n",
      "\n",
      "command line - Cbc_C_Interface -solve -quit (default strategy 1)\n",
      "Continuous objective value is 1.02857e+07 - 0.00 seconds\n",
      "Cgl0004I processed model has 2 rows, 2 columns (2 integer (0 of which binary)) and 4 elements\n",
      "Cbc0012I Integer solution of -10272000 found by DiveCoefficient after 0 iterations and 0 nodes (0.00 seconds)\n",
      "Cbc0012I Integer solution of -10274000 found by DiveCoefficient after 5 iterations and 0 nodes (0.01 seconds)\n",
      "Cbc0031I 2 added rows had average density of 2\n",
      "Cbc0013I At root node, 2 cuts changed objective from -10285714 to -10284000 in 21 passes\n",
      "Cbc0014I Cut generator 0 (Probing) - 0 row cuts average 0.0 elements, 49 column cuts (49 active)  in 0.002 seconds - new frequency is 1\n",
      "Cbc0014I Cut generator 1 (Gomory) - 7 row cuts average 2.0 elements, 0 column cuts (0 active)  in 0.001 seconds - new frequency is 1\n",
      "Cbc0014I Cut generator 2 (Knapsack) - 0 row cuts average 0.0 elements, 0 column cuts (0 active)  in 0.000 seconds - new frequency is -100\n",
      "Cbc0014I Cut generator 3 (Clique) - 0 row cuts average 0.0 elements, 0 column cuts (0 active)  in 0.000 seconds - new frequency is -100\n",
      "Cbc0014I Cut generator 4 (MixedIntegerRounding2) - 0 row cuts average 0.0 elements, 0 column cuts (0 active)  in 0.001 seconds - new frequency is -100\n",
      "Cbc0014I Cut generator 5 (FlowCover) - 0 row cuts average 0.0 elements, 0 column cuts (0 active)  in 0.001 seconds - new frequency is -100\n",
      "Cbc0016I Integer solution of -10284000 found by strong branching after 5 iterations and 0 nodes (0.01 seconds)\n",
      "Cbc0001I Search completed - best objective -10284000, took 5 iterations and 0 nodes (0.01 seconds)\n",
      "Cbc0032I Strong branching done 2 times (2 iterations), fathomed 1 nodes and fixed 0 variables\n",
      "Cbc0035I Maximum depth 0, 0 variables fixed on reduced cost\n",
      "Cuts at root node changed objective from -1.02857e+07 to -1.0284e+07\n",
      "Probing was tried 21 times and created 49 cuts of which 0 were active after adding rounds of cuts (0.002 seconds)\n",
      "Gomory was tried 21 times and created 7 cuts of which 0 were active after adding rounds of cuts (0.001 seconds)\n",
      "Knapsack was tried 21 times and created 0 cuts of which 0 were active after adding rounds of cuts (0.000 seconds)\n",
      "Clique was tried 21 times and created 0 cuts of which 0 were active after adding rounds of cuts (0.000 seconds)\n",
      "MixedIntegerRounding2 was tried 21 times and created 0 cuts of which 0 were active after adding rounds of cuts (0.001 seconds)\n",
      "FlowCover was tried 21 times and created 0 cuts of which 0 were active after adding rounds of cuts (0.001 seconds)\n",
      "TwoMirCuts was tried 1 times and created 0 cuts of which 0 were active after adding rounds of cuts (0.000 seconds)\n",
      "ZeroHalf was tried 1 times and created 0 cuts of which 0 were active after adding rounds of cuts (0.000 seconds)\n",
      "\n",
      "Result - Optimal solution found\n",
      "\n",
      "Objective value:                10284000.00000000\n",
      "Enumerated nodes:               0\n",
      "Total iterations:               5\n",
      "Time (CPU seconds):             0.02\n",
      "Time (Wallclock seconds):       0.20\n",
      "\n",
      "Total time (CPU seconds):       0.02   (Wallclock seconds):       0.20\n",
      "\n"
     ]
    }
   ],
   "source": [
    "# fonctionne pour JuMP version 0.21.5\n",
    "using Cbc\n",
    "using JuMP\n",
    "\n",
    "# data\n",
    "Nb_Voitures = 2 # Nombre de Voitures\n",
    "C = [10000; 9000] # Coût\n",
    "Max_heure = 60\n",
    "Heure = [0.06; 0.05]\n",
    "Max_surface = 15000\n",
    "Surface = [10; 20]\n",
    "Max_Luxe = 800\n",
    "\n",
    "# set optimizer\n",
    "model = Model(Cbc.Optimizer)\n",
    "\n",
    "# define variables\n",
    "@variable(model, Voitures[1:Nb_Voitures] >= 0, Int)\n",
    "\n",
    "# define objective function\n",
    "@objective(model, Max, sum(C.*Voitures))\n",
    "\n",
    "# define constraints\n",
    "@constraint(model, sum(Heure.*Voitures) <= Max_heure)\n",
    "@constraint(model, sum(Surface.*Voitures) <= Max_surface)\n",
    "@constraint(model, Voitures[1] <= Max_Luxe)\n",
    "\n",
    "# run optimization\n",
    "optimize!(model)"
   ]
  },
  {
   "cell_type": "markdown",
   "metadata": {},
   "source": [
    "#### Tests avec l’instance disponible sur le sujet"
   ]
  },
  {
   "cell_type": "code",
   "execution_count": 18,
   "metadata": {},
   "outputs": [
    {
     "name": "stdout",
     "output_type": "stream",
     "text": [
      "la solution est : \n",
      "\t coût = 1.0284e7\n",
      "\t Quantite de Voiture 1 = 645.0\n",
      "\t Quantite de Voiture 2 = 426.0\n"
     ]
    }
   ],
   "source": [
    "println(\"la solution est : \")\n",
    "println(\"\\t coût = $(objective_value(model))\")\n",
    "for i in 1:Nb_Voitures\n",
    "    println(\"\\t Quantite de Voiture $i = $(value(Voitures[i]))\")\n",
    "end"
   ]
  },
  {
   "cell_type": "markdown",
   "metadata": {},
   "source": [
    "### 3.3 De la teinture\n",
    "***\n",
    "\n",
    "La teinturerie ZETA peut utiliser indifféremment deux produits pour colorer du tissu\n",
    "brut en couleur indigo. Ces produits, appelés I 1 et I 2 , contiennent trois substances A, B et\n",
    "C dans les concentrations suivantes (exprimées en g par kg de produit) :\n",
    "I 1\n",
    "I 2\n",
    "A\n",
    "500\n",
    "400\n",
    "B\n",
    "C\n",
    "150 20\n",
    "50 0\n",
    "Dans un bain permettant de teinter 10 kg de tissu, il faut au moins 500 g de la substance\n",
    "A, 100 g de la substance B et 5 g de la substance C. De plus, la quantité de substance C\n",
    "ne doit pas dépasser 15 g par bain. Le produit I 1 coûte 10 e par kg, tandis que le produit\n",
    "I 2 coûte 20 e par kg. ZETA souhaite savoir la somme minimale à débourser pour pouvoir\n",
    "colorer 10 kg de tissu.\n",
    "\n",
    "#### Modélisation d'une forme générique"
   ]
  },
  {
   "cell_type": "code",
   "execution_count": 20,
   "metadata": {},
   "outputs": [
    {
     "name": "stdout",
     "output_type": "stream",
     "text": [
      "Welcome to the CBC MILP Solver \n",
      "Version: 2.10.3 \n",
      "Build Date: Jan  1 1970 \n",
      "\n",
      "command line - Cbc_C_Interface -solve -quit (default strategy 1)\n",
      "Presolve 2 (-2) rows, 2 (0) columns and 4 (-2) elements\n",
      "0  Obj 6.7499998 Primal inf 0.92583134 (2)\n",
      "1  Obj 13.75\n",
      "Optimal - objective value 13.75\n",
      "After Postsolve, objective 13.75, infeasibilities - dual 0 (0), primal 0 (0)\n",
      "Optimal objective 13.75 - 1 iterations time 0.002, Presolve 0.00\n",
      "Total time (CPU seconds):       0.00   (Wallclock seconds):       0.00\n",
      "\n"
     ]
    }
   ],
   "source": [
    "# fonctionne pour JuMP version 0.21.5\n",
    "using Cbc\n",
    "using JuMP\n",
    "\n",
    "# data\n",
    "Nb_Teinture = 2 # Nombre de teinture\n",
    "Nb_seuil = 3\n",
    "C = [10; 20] # Coût teinture\n",
    "cout_Seuil_Min = [500 150 20 ;400 50 0]\n",
    "cout_Seuil_Max = [20;0]\n",
    "Seuil_Min = [500; 100; 5] # Seuil Minimal\n",
    "Seuil_Max = 15\n",
    "\n",
    "# set optimizer\n",
    "model = Model(Cbc.Optimizer)\n",
    "\n",
    "# define variables\n",
    "@variable(model, Teinture[1:Nb_Teinture] >= 0)\n",
    "\n",
    "# define objective function\n",
    "@objective(model, Min, sum(C.*Teinture))\n",
    "\n",
    "# define constraints  Seuil Minimal\n",
    "for i in 1:Nb_seuil\n",
    "    @constraint(model, sum(cout_Seuil_Min[:,i].*Teinture) >= Seuil_Min[i])\n",
    "end\n",
    "\n",
    "# define constraints Seuil Maximal\n",
    "@constraint(model, sum(cout_Seuil_Max.*Teinture) <= Seuil_Max)\n",
    "\n",
    "# run optimization\n",
    "optimize!(model)"
   ]
  },
  {
   "cell_type": "markdown",
   "metadata": {},
   "source": [
    "#### Tests avec l’instance disponible sur le sujet"
   ]
  },
  {
   "cell_type": "code",
   "execution_count": 21,
   "metadata": {},
   "outputs": [
    {
     "name": "stdout",
     "output_type": "stream",
     "text": [
      "la solution est : \n",
      "\t coût = 13.75\n",
      "\t Quantite de Ciment 1 = 0.75\n",
      "\t Quantite de Ciment 2 = 0.3125\n"
     ]
    }
   ],
   "source": [
    "println(\"la solution est : \")\n",
    "println(\"\\t coût = $(objective_value(model))\")\n",
    "for i in 1:Nb_Teinture\n",
    "    println(\"\\t Quantite de Ciment $i = $(value(Teinture[i]))\")\n",
    "end"
   ]
  },
  {
   "cell_type": "markdown",
   "metadata": {},
   "source": [
    "### 3.4 Des armoires et des tables\n",
    "***\n",
    "\n",
    "L’entreprise GAMMA fabrique entre-autre des armoires et des tables :\n",
    "— Tout article commencé doit être terminé le jour même.\n",
    "— Chaque article nécessite 1 heure de travail.\n",
    "— Une armoire nécessite 9 m de bois, alors qu’une table n’en nécessite que 5 m\n",
    "— GAMMA dispose, chaque jour, de 6 heures de travail et de 45 m2 de bois\n",
    "— Une armoire rapporte 8 e de bénéfice, alors qu’une table ne rapporte que 5 e.\n",
    "Comment répartir le travail quotidien entre armoires et tables, de manière à maximiser le\n",
    "bénéfice ?\n",
    "\n",
    "#### Modélisation d'une forme générique"
   ]
  },
  {
   "cell_type": "code",
   "execution_count": 23,
   "metadata": {},
   "outputs": [
    {
     "name": "stdout",
     "output_type": "stream",
     "text": [
      "Welcome to the CBC MILP Solver \n",
      "Version: 2.10.3 \n",
      "Build Date: Jan  1 1970 \n",
      "\n",
      "command line - Cbc_C_Interface -solve -quit (default strategy 1)\n",
      "Continuous objective value is 41.25 - 0.00 seconds\n",
      "Cgl0004I processed model has 2 rows, 2 columns (2 integer (0 of which binary)) and 4 elements\n",
      "Cbc0012I Integer solution of -34 found by DiveCoefficient after 0 iterations and 0 nodes (0.00 seconds)\n",
      "Cbc0012I Integer solution of -40 found by DiveCoefficient after 1 iterations and 0 nodes (0.00 seconds)\n",
      "Cbc0031I 1 added rows had average density of 2\n",
      "Cbc0013I At root node, 1 cuts changed objective from -41.25 to -40 in 2 passes\n",
      "Cbc0014I Cut generator 0 (Probing) - 0 row cuts average 0.0 elements, 2 column cuts (2 active)  in 0.000 seconds - new frequency is 1\n",
      "Cbc0014I Cut generator 1 (Gomory) - 1 row cuts average 2.0 elements, 0 column cuts (0 active)  in 0.000 seconds - new frequency is 1\n",
      "Cbc0014I Cut generator 2 (Knapsack) - 0 row cuts average 0.0 elements, 0 column cuts (0 active)  in 0.000 seconds - new frequency is -100\n",
      "Cbc0014I Cut generator 3 (Clique) - 0 row cuts average 0.0 elements, 0 column cuts (0 active)  in 0.000 seconds - new frequency is -100\n",
      "Cbc0014I Cut generator 4 (MixedIntegerRounding2) - 0 row cuts average 0.0 elements, 0 column cuts (0 active)  in 0.000 seconds - new frequency is -100\n",
      "Cbc0014I Cut generator 5 (FlowCover) - 0 row cuts average 0.0 elements, 0 column cuts (0 active)  in 0.000 seconds - new frequency is -100\n",
      "Cbc0014I Cut generator 7 (ZeroHalf) - 1 row cuts average 2.0 elements, 0 column cuts (0 active)  in 0.000 seconds - new frequency is -100\n",
      "Cbc0001I Search completed - best objective -40, took 1 iterations and 0 nodes (0.00 seconds)\n",
      "Cbc0035I Maximum depth 0, 0 variables fixed on reduced cost\n",
      "Cuts at root node changed objective from -41.25 to -40\n",
      "Probing was tried 2 times and created 2 cuts of which 0 were active after adding rounds of cuts (0.000 seconds)\n",
      "Gomory was tried 2 times and created 1 cuts of which 0 were active after adding rounds of cuts (0.000 seconds)\n",
      "Knapsack was tried 2 times and created 0 cuts of which 0 were active after adding rounds of cuts (0.000 seconds)\n",
      "Clique was tried 2 times and created 0 cuts of which 0 were active after adding rounds of cuts (0.000 seconds)\n",
      "MixedIntegerRounding2 was tried 2 times and created 0 cuts of which 0 were active after adding rounds of cuts (0.000 seconds)\n",
      "FlowCover was tried 2 times and created 0 cuts of which 0 were active after adding rounds of cuts (0.000 seconds)\n",
      "TwoMirCuts was tried 1 times and created 0 cuts of which 0 were active after adding rounds of cuts (0.000 seconds)\n",
      "ZeroHalf was tried 1 times and created 1 cuts of which 0 were active after adding rounds of cuts (0.000 seconds)\n",
      "\n",
      "Result - Optimal solution found\n",
      "\n",
      "Objective value:                40.00000000\n",
      "Enumerated nodes:               0\n",
      "Total iterations:               1\n",
      "Time (CPU seconds):             0.00\n",
      "Time (Wallclock seconds):       0.00\n",
      "\n",
      "Total time (CPU seconds):       0.00   (Wallclock seconds):       0.00\n",
      "\n"
     ]
    }
   ],
   "source": [
    "# fonctionne pour JuMP version 0.21.5\n",
    "using Cbc\n",
    "using JuMP\n",
    "\n",
    "# data\n",
    "Nb_Var = 2 # Nombre de Variables (Table, Armoires)\n",
    "C = [8; 5] # Coût\n",
    "cout_Materiaux = [9;5]\n",
    "cout_Temps = [1;1]\n",
    "Materiaux = 45\n",
    "Temps_dispo = 6\n",
    "\n",
    "# set optimizer\n",
    "model = Model(Cbc.Optimizer)\n",
    "\n",
    "# define variables\n",
    "@variable(model, Produit[1:Nb_Var] >= 0, Int)\n",
    "\n",
    "# define objective function\n",
    "@objective(model, Max, sum(C.*Produit))\n",
    "\n",
    "# define constraints\n",
    "@constraint(model, sum(cout_Materiaux.*Produit) <= Materiaux)\n",
    "@constraint(model, sum(cout_Temps.*Produit) <= Temps_dispo)\n",
    "\n",
    "# run optimization\n",
    "optimize!(model)"
   ]
  },
  {
   "cell_type": "markdown",
   "metadata": {},
   "source": [
    "#### Tests avec l’instance disponible sur le sujet"
   ]
  },
  {
   "cell_type": "code",
   "execution_count": 24,
   "metadata": {},
   "outputs": [
    {
     "name": "stdout",
     "output_type": "stream",
     "text": [
      "la solution est : \n",
      "\t coût = 40.0\n",
      "\t Quantite de Produit 1 = 5.0\n",
      "\t Quantite de Produit 2 = 0.0\n"
     ]
    }
   ],
   "source": [
    "println(\"la solution est : \")\n",
    "println(\"\\t coût = $(objective_value(model))\")\n",
    "for i in 1:Nb_Var\n",
    "    println(\"\\t Quantite de Produit $i = $(value(Produit[i]))\")\n",
    "end"
   ]
  },
  {
   "cell_type": "markdown",
   "metadata": {},
   "source": [
    "### 3.5 En bourse\n",
    "***\n",
    "\n",
    "La société de construction DELTA a réalisé d’importants bénéfices au cours de 3 dernières\n",
    "années et envisage de faire fructifier une partie de ses gains en bourse. Pour sa première tenta-\n",
    "tive, elle est prête à investir à hauteur de 5 millions d’e. Les marchés étant particulièrement\n",
    "volatiles en ce moment, le conseiller financier suggère de ne pas mettre plus de 25% de la\n",
    "somme investie dans un même produit financier et de ne pas dépasser un risque global de\n",
    "2.0 ∗ . De plus, il serait intéressant d’investir au moins 30% dans les métaux précieux, qui\n",
    "sont en général rentables et au moins 45% dans les crédits commerciaux et obligations, en\n",
    "général fiables.\n",
    "— Dans ces conditions, déduire quelle serait alors la stratégie d’investissement qui maxi-\n",
    "mise les intérêts de DELTA ?\n",
    "Produits financiers\n",
    "Taux d’intérêt\n",
    "Crédits commerciaux\n",
    "7%\n",
    "Obligations de sociétés 10%\n",
    "Stocks d’Or\n",
    "19%\n",
    "Stocks de Platine\n",
    "12%\n",
    "Titres hypothécaires\n",
    "8%\n",
    "Prêts de construction\n",
    "14%\n",
    "coef de risque\n",
    "1.7\n",
    "1.2\n",
    "3.7\n",
    "2.4\n",
    "2.0\n",
    "2.9\n",
    "\n",
    "#### Modélisation d'une forme générique"
   ]
  },
  {
   "cell_type": "code",
   "execution_count": 26,
   "metadata": {},
   "outputs": [
    {
     "name": "stdout",
     "output_type": "stream",
     "text": [
      "Welcome to the CBC MILP Solver \n",
      "Version: 2.10.3 \n",
      "Build Date: Jan  1 1970 \n",
      "\n",
      "command line - Cbc_C_Interface -solve -quit (default strategy 1)\n",
      "Presolve 10 (0) rows, 6 (0) columns and 59 (0) elements\n",
      "0  Obj -0 Dual inf 0.6999994 (6)\n",
      "0  Obj -0 Dual inf 0.6999994 (6)\n",
      "11  Obj 520000\n",
      "Optimal - objective value 520000\n",
      "Optimal objective 520000 - 11 iterations time 0.002\n",
      "Total time (CPU seconds):       0.00   (Wallclock seconds):       0.00\n",
      "\n"
     ]
    }
   ],
   "source": [
    "# fonctionne pour JuMP version 0.21.5\n",
    "using Cbc\n",
    "using JuMP\n",
    "\n",
    "# data\n",
    "Nb_Var = 6 # Nombre de Variables\n",
    "C = [0.07; 0.1; 0.19; 0.12; 0.08; 0.14] # Coût\n",
    "Seuil_Max = [0.25;0.25;0.25;0.25;0.25;0.25]\n",
    "Cout_Risque = [1.7; 1.2; 3.7; 2.4; 2.0; 2.9]\n",
    "Risque = 2\n",
    "Limitation = 5000000\n",
    "Metaux_speciaux = 0.3\n",
    "Investissement_fiable = 0.45\n",
    "\n",
    "# set optimizer\n",
    "model = Model(Cbc.Optimizer)\n",
    "\n",
    "# define variables\n",
    "@variable(model, Variables[1:Nb_Var] >= 0)\n",
    "\n",
    "# define objective function\n",
    "@objective(model, Max, sum(C.*Variables))\n",
    "\n",
    "# define constraints\n",
    "@constraint(model, sum(Cout_Risque.*Variables) <= Risque*sum(Variables))\n",
    "@constraint(model, Variables[3]+Variables[4] >= Metaux_speciaux*sum(Variables))\n",
    "@constraint(model, Variables[1]+Variables[2] >= Investissement_fiable*sum(Variables))\n",
    "\n",
    "for i in 1:Nb_Var\n",
    "    @constraint(model, Variables[i] <= Seuil_Max[i]*sum(Variables))\n",
    "end\n",
    "\n",
    "@constraint(model, sum(Variables) <= Limitation)\n",
    "\n",
    "# run optimization\n",
    "optimize!(model)"
   ]
  },
  {
   "cell_type": "markdown",
   "metadata": {},
   "source": [
    "#### Tests avec l’instance disponible sur le sujet"
   ]
  },
  {
   "cell_type": "code",
   "execution_count": 27,
   "metadata": {},
   "outputs": [
    {
     "name": "stdout",
     "output_type": "stream",
     "text": [
      "la solution est : \n",
      "\t coût = 520000.0\n",
      "\t Quantite de Variables 1 = 1.25e6\n",
      "\t Quantite de Variables 2 = 1.25e6\n",
      "\t Quantite de Variables 3 = 250000.0\n",
      "\t Quantite de Variables 4 = 1.25e6\n",
      "\t Quantite de Variables 5 = 500000.00000000006\n",
      "\t Quantite de Variables 6 = 500000.0000000002\n"
     ]
    }
   ],
   "source": [
    "println(\"la solution est : \")\n",
    "println(\"\\t coût = $(objective_value(model))\")\n",
    "for i in 1:Nb_Var\n",
    "    println(\"\\t Quantite de Variables $i = $(value(Variables[i]))\")\n",
    "end"
   ]
  }
 ],
 "metadata": {
  "kernelspec": {
   "display_name": "Julia 1.5.2",
   "language": "julia",
   "name": "julia-1.5"
  },
  "language_info": {
   "file_extension": ".jl",
   "mimetype": "application/julia",
   "name": "julia",
   "version": "1.5.2"
  }
 },
 "nbformat": 4,
 "nbformat_minor": 4
}
