{
 "cells": [
  {
   "cell_type": "markdown",
   "metadata": {},
   "source": [
    "<center>\n",
    "<h1> Recherche Opérationnelle : TP 3 et 4 </h1>\n",
    "<h1> Année 2020-2021 - 2e année département Sciences du Numérique </h1>\n",
    "<h1> Hamza Mouddene </h1>\n",
    "<h1> Anass Tyoubi </h1>    \n",
    "</center>"
   ]
  },
  {
   "cell_type": "markdown",
   "metadata": {},
   "source": [
    "## 1 Programmation dynamique avec Bellman-Ford\n",
    "***\n",
    "\n",
    "### 1.1 Calcul du plus court chemin entre deux sommets d’un graphe\n",
    "***\n",
    "\n",
    "Nous allons implémenter en Julia l’algorithme de Bellman-Ford permettant de calculer le plus court chemin\n",
    "entre un sommet source s et tous les autres sommets d’un graphe quelconque.\n",
    "\n",
    "#### Modélisation du problème"
   ]
  },
  {
   "cell_type": "code",
   "execution_count": 1,
   "metadata": {},
   "outputs": [
    {
     "name": "stderr",
     "output_type": "stream",
     "text": [
      "\u001b[32m\u001b[1m   Updating\u001b[22m\u001b[39m registry at `~/.julia/registries/General`\n",
      "######################################################################### 100,0%\n",
      "\u001b[32m\u001b[1m  Resolving\u001b[22m\u001b[39m package versions...\n",
      "\u001b[32m\u001b[1mNo Changes\u001b[22m\u001b[39m to `~/.julia/environments/v1.5/Project.toml`\n",
      "\u001b[32m\u001b[1mNo Changes\u001b[22m\u001b[39m to `~/.julia/environments/v1.5/Manifest.toml`\n",
      "\u001b[32m\u001b[1m  Resolving\u001b[22m\u001b[39m package versions...\n",
      "\u001b[32m\u001b[1mNo Changes\u001b[22m\u001b[39m to `~/.julia/environments/v1.5/Project.toml`\n",
      "\u001b[32m\u001b[1mNo Changes\u001b[22m\u001b[39m to `~/.julia/environments/v1.5/Manifest.toml`\n"
     ]
    }
   ],
   "source": [
    "#importer les packages utiles, le manager de package Pkg etant un package\n",
    "import Pkg; Pkg.add(\"Cbc\")\n",
    "Pkg.add(\"JuMP\")"
   ]
  },
  {
   "cell_type": "code",
   "execution_count": 221,
   "metadata": {},
   "outputs": [
    {
     "data": {
      "text/plain": [
       "bellman_ford (generic function with 1 method)"
      ]
     },
     "execution_count": 221,
     "metadata": {},
     "output_type": "execute_result"
    }
   ],
   "source": [
    "function getIndex(vertex, n, item)\n",
    "    for i in 1 : n\n",
    "        if vertex[i] == item\n",
    "            return i\n",
    "        end\n",
    "    end\n",
    "end\n",
    "\n",
    "function bellman_ford(n, m, graph, vertex, source)\n",
    "    \n",
    "    distance = zeros(n)\n",
    "    \n",
    "    for i in 1 : n\n",
    "        distance[i] = typemax(Int64)\n",
    "        previous[i] = 'A'\n",
    "    end\n",
    "    \n",
    "    distance[source] = 0\n",
    "    \n",
    "    for i in 1 : n\n",
    "        for j in 1 : m\n",
    "            u = graph[j][1]\n",
    "            v = graph[j][2]\n",
    "            w = graph[j][3]\n",
    "\n",
    "            if (distance[getIndex(vertex, n, u)] + w < distance[getIndex(vertex, n, v)])\n",
    "                distance[getIndex(vertex, n, v)] = distance[getIndex(vertex, n, u)] + w\n",
    "                previous[getIndex(vertex, n, v)] = u\n",
    "            end\n",
    "        end\n",
    "    end\n",
    "    \n",
    "    for i in 1 : m\n",
    "        u = graph[i][1]\n",
    "        v = graph[i][2]\n",
    "        w = graph[i][3]\n",
    "        if (distance[getIndex(vertex, n, u)] != typemax(Int64) \n",
    "            && distance[getIndex(vertex, n, u)] + w  < distance[getIndex(vertex, n, v)])  \n",
    "            println(\"Graph contains negative weight cycle\")\n",
    "        end\n",
    "    end\n",
    "    \n",
    "    println(\"distance = \", distance)\n",
    "    println(\"previous = \", previous)\n",
    "    \n",
    "    print(\"Le plus court chemin : \")\n",
    "    L = [vertex[n]]\n",
    "    j = n\n",
    "    while j != source\n",
    "        append!(L, [vertex[getIndex(vertex, n, previous[j])]])\n",
    "        j = getIndex(vertex, n, previous[j])\n",
    "    end\n",
    "    \n",
    "    p = size(L, 1)\n",
    "    \n",
    "    print(L[p])\n",
    "    for j in 1 : p - 1\n",
    "        print(\"-->\", L[ p - j])\n",
    "    end\n",
    "    println(\"\")\n",
    "end"
   ]
  },
  {
   "cell_type": "markdown",
   "metadata": {},
   "source": [
    "#### Test avec l'exemple du sujet"
   ]
  },
  {
   "cell_type": "code",
   "execution_count": 222,
   "metadata": {},
   "outputs": [
    {
     "name": "stdout",
     "output_type": "stream",
     "text": [
      "distance = [0.0, 3.0, 7.0, 9.0, 5.0, 12.0]\n",
      "previous = ['A', 'A', 'B', 'C', 'A', 'D']\n",
      "Le plus court chemin : A-->B-->C-->D-->F\n"
     ]
    }
   ],
   "source": [
    "vertex = ['A', 'B', 'C', 'D', 'E', 'F']\n",
    "graph = [\n",
    "    ('A', 'B', 3), ('A', 'E', 5),\n",
    "    ('B', 'C', 4),\n",
    "    ('C', 'D', 2),\n",
    "    ('D', 'F', 3),\n",
    "    ('E', 'B', -1), ('E', 'D', 9)\n",
    "    ] \n",
    "source = 1\n",
    "previous = ['A', 'A', 'A', 'A', 'A', 'A']\n",
    "bellman_ford(length(vertex), length(graph), graph, vertex, source)"
   ]
  },
  {
   "cell_type": "markdown",
   "metadata": {},
   "source": [
    "### 1.2 Calcul du plus long chemin entre deux sommets d’un graphe\n",
    "***\n",
    "\n",
    "Pour trouver le plus long chemin avec au maximum n−1 arètes entre deux sommets d'un graphe, il faut appliquer des modifications à la relation de récurrence et à l’algorithme de programmation dynamique de Bellman-Ford.\n",
    "\n",
    "Une solution simple consiste à convertir le graph G à -G, c'est à dire intervertir le signe des poids de chaque arc dans le graphe G, puis calculer le plus court chemin en passant par l'algorithme implémenté dans la question précedente en respectant bien sur la condition que le chemin ne doit pas dépasser n-1 arètes.\n",
    "\n",
    "#### Modélisation du problème"
   ]
  },
  {
   "cell_type": "code",
   "execution_count": 223,
   "metadata": {},
   "outputs": [
    {
     "data": {
      "text/plain": [
       "bellman_ford_v1 (generic function with 1 method)"
      ]
     },
     "execution_count": 223,
     "metadata": {},
     "output_type": "execute_result"
    }
   ],
   "source": [
    "function bellman_ford_v1(n, m, graph, vertex, source)\n",
    "    \n",
    "    distance = zeros(n)\n",
    "    \n",
    "    for i in 1 : n\n",
    "        distance[i] = typemax(Int64)\n",
    "        previous[i] = 'A'\n",
    "    end\n",
    "    \n",
    "    distance[source] = 0\n",
    "    \n",
    "    for i in 1 : n\n",
    "        for j in 1 : m\n",
    "            u = graph[j][1]\n",
    "            v = graph[j][2]\n",
    "            w = -graph[j][3]\n",
    "\n",
    "            if (distance[getIndex(vertex, n, u)] + w < distance[getIndex(vertex, n, v)])\n",
    "                distance[getIndex(vertex, n, v)] = distance[getIndex(vertex, n, u)] + w\n",
    "                previous[getIndex(vertex, n, v)] = u\n",
    "            end\n",
    "        end\n",
    "    end\n",
    "    \n",
    "    for i in 1 : m\n",
    "        u = graph[i][1]\n",
    "        v = graph[i][2]\n",
    "        w = -graph[i][3]\n",
    "        if (distance[getIndex(vertex, n, u)] != typemax(Int64) \n",
    "            && distance[getIndex(vertex, n, u)] + w  < distance[getIndex(vertex, n, v)])  \n",
    "            println(\"Graph contains negative weight cycle\")\n",
    "        end\n",
    "    end\n",
    "    println(\"distance = \", abs.(distance))\n",
    "    println(\"previous = \", previous)\n",
    "    \n",
    "    print(\"Le plus long chemin : \")\n",
    "    L = [vertex[n]]\n",
    "    j = n\n",
    "    while j != source\n",
    "        append!(L, [vertex[getIndex(vertex, n, previous[j])]])\n",
    "        j = getIndex(vertex, n, previous[j])\n",
    "    end\n",
    "    \n",
    "    p = size(L, 1)\n",
    "    \n",
    "    print(L[p])\n",
    "    for j in 1 : p - 1\n",
    "        print(\"-->\", L[ p - j])\n",
    "    end\n",
    "    println(\"\")\n",
    "\n",
    "end"
   ]
  },
  {
   "cell_type": "markdown",
   "metadata": {},
   "source": [
    "#### Test avec l'exemple du sujet"
   ]
  },
  {
   "cell_type": "code",
   "execution_count": 224,
   "metadata": {},
   "outputs": [
    {
     "name": "stdout",
     "output_type": "stream",
     "text": [
      "distance = [0.0, 4.0, 8.0, 14.0, 5.0, 17.0]\n",
      "previous = ['A', 'E', 'B', 'E', 'A', 'D']\n",
      "Le plus long chemin : A-->E-->D-->F\n"
     ]
    }
   ],
   "source": [
    "bellman_ford_v1(length(vertex), length(graph), graph, vertex, source)"
   ]
  },
  {
   "cell_type": "markdown",
   "metadata": {},
   "source": [
    "## 2 Extensions et adaptations\n",
    "***\n",
    "\n",
    "### 2.1 Construction d’un réseau de transmission à vitesse maximale\n",
    "***\n",
    "\n",
    "La société **ALPHA** désire relier par un réseau, un processeur central *P* à divers processeurs (éventuellement par des intermédiaires). Une vitesse de transmission *lij* en bauds est associée à chaque\n",
    "liaison possible (bidirectionnelle) reliant le processeur *i* au processeur *j*. La vitesse de transmission\n",
    "d’un chemin du processeur central *P* au processeur *K* est égale au plus petit des *lij* rencontrés sur\n",
    "ce chemin. **ALPHA** souhaite trouver les chemins de vitesses maximales reliant le processeur central\n",
    "*P* à tous les autres processeurs *K* du réseau.\n",
    "\n",
    "Cela nécessite une modification au niveau de la relation de récurrence et à l’algorithme de **BellmanFord** pour calculer le chemin de vitesse maximale entre deux sommets d’un graphe.\n",
    "\n",
    "#### Modélisation du problème"
   ]
  },
  {
   "cell_type": "code",
   "execution_count": 225,
   "metadata": {},
   "outputs": [
    {
     "data": {
      "text/plain": [
       "bellman_ford_v2 (generic function with 1 method)"
      ]
     },
     "execution_count": 225,
     "metadata": {},
     "output_type": "execute_result"
    }
   ],
   "source": [
    "function bellman_ford_v2(n, m, graph, vertex, source)\n",
    "    maxi = zeros(n)\n",
    "    distance = zeros(n)\n",
    "    \n",
    "    for i in 1 : n    \n",
    "        maxi[i] = -typemax(Int64)\n",
    "        distance[i] = -typemax(Int64)\n",
    "    end\n",
    "    \n",
    "    distance[source] = typemax(Int64)\n",
    "    \n",
    "    for i in 1 : n\n",
    "        for j in 1 : m\n",
    "            u = graph[j][1]\n",
    "            v = graph[j][2]\n",
    "            w = graph[j][3]\n",
    "\n",
    "            if (min(distance[getIndex(vertex, n, u)], w) > maxi[getIndex(vertex, n, v)])\n",
    "                distance[getIndex(vertex, n, v)] = min(distance[getIndex(vertex, n, u)], w)\n",
    "                maxi[getIndex(vertex, n, v)] = min(distance[getIndex(vertex, n, u)], w)\n",
    "            end\n",
    "        end\n",
    "    end\n",
    "    \n",
    "    println(\"distance = \", maxi)\n",
    "    \n",
    "    for i in 1 : n\n",
    "        println(\"P -> \", vertex[i], \" avec une vitesse de \", maxi[i])\n",
    "    end \n",
    "end"
   ]
  },
  {
   "cell_type": "markdown",
   "metadata": {},
   "source": [
    "#### Test avec l'exemple du sujet"
   ]
  },
  {
   "cell_type": "code",
   "execution_count": 226,
   "metadata": {},
   "outputs": [
    {
     "name": "stdout",
     "output_type": "stream",
     "text": [
      "distance = [5.0, 5.0, 4.0, 2.0, 3.0, 3.0, 3.0]\n",
      "P -> P avec une vitesse de 5.0\n",
      "P -> 1 avec une vitesse de 5.0\n",
      "P -> 2 avec une vitesse de 4.0\n",
      "P -> 3 avec une vitesse de 2.0\n",
      "P -> 4 avec une vitesse de 3.0\n",
      "P -> 5 avec une vitesse de 3.0\n",
      "P -> 6 avec une vitesse de 3.0\n"
     ]
    }
   ],
   "source": [
    "vertex = ['P', '1', '2', '3', '4', '5', '6']\n",
    "graph = [\n",
    "    ('P', '1', 5), ('P', '4', 1), ('P', '6', 3),\n",
    "    ('1', 'P', 5), ('1', '2', 4),\n",
    "    ('2', '1', 4), ('2', '3', 1), ('2', '4', 2), ('2', '5', 2),\n",
    "    ('3', '2', 1), ('3', '5', 2),\n",
    "    ('4', 'P', 1), ('4', '2', 2), ('4', '5', 3), ('4', '6', 5),\n",
    "    ('5', '2', 2), ('5', '3', 2), ('5', '4', 3),\n",
    "    ('6', 'P', 3), ('6', '4', 5)\n",
    "    ] \n",
    "source = 1\n",
    "bellman_ford_v2(length(vertex), length(graph), graph, vertex, source)"
   ]
  },
  {
   "cell_type": "markdown",
   "metadata": {},
   "source": [
    "### 2.2 Fiabilité de procédé de fabrication de semi-conducteurs\n",
    "***\n",
    "\n",
    "L’entreprise de semi-conducteurs **GAMMA** souhaite déterminer le procédé de fabrication le plus\n",
    "sûr pour leurs nouveaux processeurs **SX-42**. Il y a en effet plusieurs façons de faire pour transformer\n",
    "la matière première jusqu’au produit fini (enchainement d’opérations de gravure, de vernissage, de\n",
    "nettoyage, de dopage, etc).\n",
    "Le processus de fabrication de processeurs est extrêmement sensible et si à une étape il y a le moindre problème alors la plaque de silicium est perdue et détruite.\n",
    "\n",
    "Ci-dessus le schéma descriptif des processus de fabrication possibles. Les produits semi-finis\n",
    "intermédiaires sont désignés par les abréviations *S1, S2, S3, A1, A2, A3, A4, D1, D2, FG, FC*.\n",
    "La probabilité de succès est indiquée pour chaque étape possible. Par exemple si l’on dispose de\n",
    "produits semi-finis de type *S2*, alors on a le choix entre deux processus. Le premier donnera des\n",
    "produits semi-finis de type *A2*, avec une probabilité de succès à *4s* de *0.97* (il y aura donc *3%*\n",
    "déchets). Le second  processus fournira des produits semi-finis de type *A3* avec une probabilité sur\n",
    "le période, avec une probabilité de succès de *0.98* (il y aura donc *2%* de déchets). La problématique\n",
    "est de déterminer le procédé de fabrication le plus sûr, c-à-d comportant moins de déchets.\n",
    "\n",
    "(a) En utilisant le fait que pour tout $a, b ∈ R+$ on a $log ab = log a + log b$, montrer que l’on\n",
    "peut transformer la recherche du procédé de fabrication le plus sûr en un problème de plus\n",
    "long chemin dans un graphe à préciser. Implémenter et tester sur l’exemple fourni puis avec\n",
    "différents jeux de données de votre choix.\n",
    "\n",
    "#### Modélisation du problème"
   ]
  },
  {
   "cell_type": "code",
   "execution_count": 254,
   "metadata": {},
   "outputs": [
    {
     "data": {
      "text/plain": [
       "bellman_ford_v3 (generic function with 1 method)"
      ]
     },
     "execution_count": 254,
     "metadata": {},
     "output_type": "execute_result"
    }
   ],
   "source": [
    "function bellman_ford_v3(n, m, graph, vertex, source)\n",
    "    \n",
    "    distance = zeros(n)\n",
    "    previous = string.(zeros(n))\n",
    "    \n",
    "    for i in 1 : n\n",
    "        distance[i] = Inf\n",
    "        previous[i] = \"Matières premières\"\n",
    "    end\n",
    "    \n",
    "    distance[source] = 0\n",
    "    \n",
    "    for i in 1 : n\n",
    "        for j in 1 : m\n",
    "            u = graph[j][1]\n",
    "            v = graph[j][2]\n",
    "            w = -log(graph[j][3])\n",
    "            \n",
    "            if (distance[getIndex(vertex, n, u)] + w < distance[getIndex(vertex, n, v)])\n",
    "                distance[getIndex(vertex, n, v)] = distance[getIndex(vertex, n, u)] + w\n",
    "                previous[getIndex(vertex, n, v)] = u\n",
    "            end\n",
    "        end\n",
    "    end\n",
    "    \n",
    "    \n",
    "    println(\"Le procédé de fabrication le plus sûr est : \")\n",
    "    L = [vertex[n]]\n",
    "    j = n\n",
    "    while j != source\n",
    "        append!(L, [vertex[getIndex(vertex, n, previous[j])]])\n",
    "        j = getIndex(vertex, n, previous[j])\n",
    "    end\n",
    "    \n",
    "    p = size(L, 1)\n",
    "    \n",
    "    print(L[p])\n",
    "    for j in 1 : p - 1\n",
    "        print(\" --> \", L[ p - j])\n",
    "    end\n",
    "    println(\"\\nAvec une probabilité de succés de \", exp(-distance[n]))\n",
    "end"
   ]
  },
  {
   "cell_type": "markdown",
   "metadata": {},
   "source": [
    "#### Test avec l'exemple du sujet"
   ]
  },
  {
   "cell_type": "code",
   "execution_count": 255,
   "metadata": {},
   "outputs": [
    {
     "name": "stdout",
     "output_type": "stream",
     "text": [
      "Le procédé de fabrication le plus sûr est : \n",
      "Matières premières --> S1 --> A3 --> D1 --> FG --> Produit fini\n",
      "Avec une probabilité de succés de 0.9038266775999999\n"
     ]
    }
   ],
   "source": [
    "vertex = [\"Matières premières\", \"S1\", \"S2\", \"S3\", \"A1\", \"A2\", \"A3\", \"A4\", \"D1\", \"D2\", \"FG\", \"FX\", \"Produit fini\"]\n",
    "graph = [\n",
    "    (\"Matières premières\", \"S1\", 0.98), (\"Matières premières\", \"S2\", 0.97), (\"Matières premières\", \"S3\", 0.99),\n",
    "    (\"S1\", \"A1\", 0.96), (\"S1\", \"A2\", 0.95),\n",
    "    (\"S2\", \"A2\", 0.97), (\"S1\", \"A3\", 0.98),\n",
    "    (\"S3\", \"A3\", 0.95), (\"S1\", \"A4\", 0.93),\n",
    "    (\"A1\", \"D1\", 0.99),\n",
    "    (\"A2\", \"D1\", 0.96),\n",
    "    (\"A3\", \"D1\", 0.97), (\"A3\", \"D2\", 0.98),\n",
    "    (\"A4\", \"D2\", 0.99),\n",
    "    (\"D1\", \"FG\", 0.98), (\"D1\", \"FX\", 0.99),\n",
    "    (\"D2\", \"FG\", 0.96), (\"D2\", \"FX\", 0.99),\n",
    "    (\"FG\", \"Produit fini\", 0.99),\n",
    "    (\"FX\", \"Produit fini\", 0.93)\n",
    "    ] \n",
    "source = 1\n",
    "bellman_ford_v3(length(vertex), length(graph), graph, vertex, source)"
   ]
  },
  {
   "cell_type": "markdown",
   "metadata": {},
   "source": [
    "(b) On peut aussi directement modifier l’algorithme de **Bellman-Ford** vu dans ce TP pour l’adapter à la recherche d’un plus sûr chemin, c-à-d en un chemin $x1,...,xk$ tel que le produit $Qk−1 i=1 p(xi, xi+1)$ soit maximum. Implémenter et tester sur l’exemple fourni puis avec différents jeux de données de votre choix, et comparer au résultat précédent.\n",
    "\n",
    "#### Modélisation du problème"
   ]
  },
  {
   "cell_type": "code",
   "execution_count": 252,
   "metadata": {},
   "outputs": [
    {
     "data": {
      "text/plain": [
       "bellman_ford_v4 (generic function with 1 method)"
      ]
     },
     "execution_count": 252,
     "metadata": {},
     "output_type": "execute_result"
    }
   ],
   "source": [
    "function bellman_ford_v4(n, m, graph, vertex, source)\n",
    "    distance = zeros(n)\n",
    "    previous = string.(zeros(n))\n",
    "    \n",
    "    for i in 1 : n\n",
    "        distance[i] = -Inf\n",
    "        previous[i] = \"Matières premières\"\n",
    "    end\n",
    "    \n",
    "    distance[source] = 1\n",
    "    \n",
    "    for i in 1 : n\n",
    "        for j in 1 : m\n",
    "            u = graph[j][1]\n",
    "            v = graph[j][2]\n",
    "            w = graph[j][3]\n",
    "            \n",
    "            if (distance[getIndex(vertex, n, u)] * w > distance[getIndex(vertex, n, v)])\n",
    "                distance[getIndex(vertex, n, v)] = distance[getIndex(vertex, n, u)] * w\n",
    "                previous[getIndex(vertex, n, v)] = u\n",
    "            end\n",
    "        end\n",
    "    end\n",
    "    \n",
    "    \n",
    "    println(\"Le procédé de fabrication le plus sûr est : \")\n",
    "    L = [vertex[n]]\n",
    "    j = n\n",
    "    while j != source\n",
    "        append!(L, [vertex[getIndex(vertex, n, previous[j])]])\n",
    "        j = getIndex(vertex, n, previous[j])\n",
    "    end\n",
    "    \n",
    "    p = size(L, 1)\n",
    "    \n",
    "    print(L[p])\n",
    "    for j in 1 : p - 1\n",
    "        print(\" --> \", L[ p - j])\n",
    "    end\n",
    "    println(\"\\nAvec une probabilité de succés de \", distance[n])\n",
    "end"
   ]
  },
  {
   "cell_type": "markdown",
   "metadata": {},
   "source": [
    "#### Test avec l'exemple du sujet"
   ]
  },
  {
   "cell_type": "code",
   "execution_count": 253,
   "metadata": {},
   "outputs": [
    {
     "name": "stdout",
     "output_type": "stream",
     "text": [
      "Le procédé de fabrication le plus sûr est : \n",
      "Matières premières --> S1 --> A3 --> D1 --> FG --> Produit fini\n",
      "Avec une probabilité de succés de 0.9038266775999999\n"
     ]
    }
   ],
   "source": [
    "bellman_ford_v4(length(vertex), length(graph), graph, vertex, source)"
   ]
  }
 ],
 "metadata": {
  "kernelspec": {
   "display_name": "Julia 1.5.2",
   "language": "julia",
   "name": "julia-1.5"
  },
  "language_info": {
   "file_extension": ".jl",
   "mimetype": "application/julia",
   "name": "julia",
   "version": "1.5.2"
  }
 },
 "nbformat": 4,
 "nbformat_minor": 4
}
