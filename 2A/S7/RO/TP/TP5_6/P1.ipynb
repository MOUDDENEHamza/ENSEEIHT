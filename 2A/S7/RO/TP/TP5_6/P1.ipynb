{
 "cells": [
  {
   "cell_type": "markdown",
   "metadata": {},
   "source": [
    "# TP5-6 : Problème (P1) - contraintes de précédence\n",
    "***\n",
    "\n",
    "## 1 Prise en main : ordonnancement avec contraintes de précédence\n",
    "***\n",
    "\n",
    "Problème ($P1$) : Soit un ensemble de tâches $T$, l’objectif est de déterminer les dates d’exécution\n",
    "de chaque tâche de manière à minimiser la durée totale d’exécution tout en respectant les durées et\n",
    "les contraintes de précédence entre les tâches.\n",
    "\n",
    "<img src=\"Tableau1.png\" alt=\"Tableau1\"/>\n",
    "<center>\n",
    "    <i>Tableau 1 – Données utilisées dans la modélisation de la partie suivante</i>\n",
    "</center>\n",
    "\n",
    "### 1.1 Modélisation et résolution de (P1) à l'aide d'un programme linéaire\n",
    "\n",
    "Variables de décision :\n",
    "<ul>\n",
    "    <li>$t_i \\in \\mathbb{R^+}, \\forall i \\in T$ : date de début de la tâche i</li>\n",
    "    <li>$t_{fin} \\in \\mathbb{R^+}$ : date de fin du projet</li>\n",
    "</ul>\n",
    "\n",
    "#### L'implémentation du programme linéaire résultant fourni en Figure 1 "
   ]
  },
  {
   "cell_type": "code",
   "execution_count": null,
   "metadata": {
    "scrolled": true
   },
   "outputs": [],
   "source": [
    "import Pkg; Pkg.add(\"Clp\")"
   ]
  },
  {
   "cell_type": "code",
   "execution_count": 6,
   "metadata": {
    "scrolled": false
   },
   "outputs": [
    {
     "name": "stdout",
     "output_type": "stream",
     "text": [
      "Min tfin\n",
      "Subject to\n",
      " -t[1] + t[2] ≥ 2.0\n",
      " -t[1] + t[3] ≥ 2.0\n",
      " -t[2] + t[4] ≥ 3.0\n",
      " -t[3] + t[4] ≥ 1.0\n",
      " -t[3] + t[5] ≥ 1.0\n",
      " -t[4] + tfin ≥ 4.0\n",
      " -t[5] + tfin ≥ 1.0\n",
      " t[1] ≥ 0.0\n",
      " t[2] ≥ 0.0\n",
      " t[3] ≥ 0.0\n",
      " t[4] ≥ 0.0\n",
      " t[5] ≥ 0.0\n",
      "\n",
      "start solve ... ... end solve\n",
      "\n",
      "Solution PL:\n",
      " \t t=[0.0, 2.0, 2.0, 5.0, 8.0]\t tfin=9.0\n"
     ]
    }
   ],
   "source": [
    "using JuMP\n",
    "using Clp\n",
    "\n",
    "D = [2, 3, 1, 4, 1] # Récupération des données\n",
    "\n",
    "model = Model(Clp.Optimizer) # set optimizer\n",
    "set_optimizer_attribute(model, \"LogLevel\", 0) # don't display anything during solve\n",
    "set_optimizer_attribute(model, \"Algorithm\", 4) # LP solver chosen is simplex\n",
    "\n",
    "# define t variables\n",
    "@variable(model, t[i in 1 : 5] >= 0)\n",
    "@variable(model, tfin)\n",
    "\n",
    "# define objective function\n",
    "@objective(model, Min, tfin)\n",
    "\n",
    "# define constraints: t_j - t_i  >= D[i], \\forall i predecesseur de j\n",
    "@constraint(model, t[2] - t[1] >= D[1] )\n",
    "@constraint(model, t[3] - t[1] >= D[1] )\n",
    "@constraint(model, t[4] - t[2] >= D[2] )\n",
    "@constraint(model, t[4] - t[3] >= D[3] )\n",
    "@constraint(model, t[5] - t[3] >= D[3] )\n",
    "\n",
    "#define constraints: tfin - t_i >= Duree[i], \\forall i predecesseur de j\n",
    "@constraint(model, tfin - t[4] >= D[4] )\n",
    "@constraint(model, tfin - t[5] >= D[5] )\n",
    "\n",
    "println(model)\n",
    "\n",
    "print(\"start solve ... \")\n",
    "optimize!(model)\n",
    "print(\"... end solve\")\n",
    "\n",
    "\n",
    "println(\"\\n\\nSolution PL:\\n \\t t=\", value.(t), \"\\t tfin=\", value(tfin))"
   ]
  },
  {
   "cell_type": "markdown",
   "metadata": {},
   "source": [
    "### 1.2 Modélisation classique par graphe potentiel-tache\n",
    "\n",
    "Principes :\n",
    "<ul>\n",
    "    <li>\n",
    "        Chaque contrainte $tj − ti ≥ aij$ est représentée par un arc de $i$ à $j$ et de valeur/longueur $a_{ij}$\n",
    "    </li>\n",
    "    <li>Le potentiel $t_i$ correspond au début de la tâche $i$</li>\n",
    "    <li>Une tâche fictive de début peut précéder toutes les tâches sans prédécesseur</li>\n",
    "    <li>Une tâche fictive de fin succède à toutes les tâches sans successeur</li>\n",
    "</ul>\n",
    "\n",
    "<img src=\"Figure1.png\" alt=\"Figure1\"/>\n",
    "\n",
    "Dans cette partie, nous allons appliquer l'algorithme de calcul de plus long chemin issu du tp précedent sur le graphe potentiel-tâche correspondant au *Tableau 1*.\n",
    "\n",
    "#### Modélisation du problème"
   ]
  },
  {
   "cell_type": "code",
   "execution_count": 84,
   "metadata": {},
   "outputs": [
    {
     "data": {
      "text/plain": [
       "bellman_ford (generic function with 1 method)"
      ]
     },
     "execution_count": 84,
     "metadata": {},
     "output_type": "execute_result"
    }
   ],
   "source": [
    "function getIndex(vertex, n, item)\n",
    "    for i in 1 : n\n",
    "        if vertex[i] == item\n",
    "            return i\n",
    "        end\n",
    "    end\n",
    "end\n",
    "\n",
    "function bellman_ford(n, m, graph, vertex, source)\n",
    "    \n",
    "    distance = zeros(n)\n",
    "    \n",
    "    for i in 1 : n\n",
    "        distance[i] = typemax(Int64)\n",
    "        previous[i] = \"debut\"\n",
    "    end\n",
    "    \n",
    "    distance[source] = 0\n",
    "    \n",
    "    for i in 1 : n\n",
    "        for j in 1 : m\n",
    "            u = graph[j][1]\n",
    "            v = graph[j][2]\n",
    "            w = -graph[j][3]\n",
    "\n",
    "            if (distance[getIndex(vertex, n, u)] + w < distance[getIndex(vertex, n, v)])\n",
    "                distance[getIndex(vertex, n, v)] = distance[getIndex(vertex, n, u)] + w\n",
    "                previous[getIndex(vertex, n, v)] = u\n",
    "            end\n",
    "        end\n",
    "    end\n",
    "    \n",
    "    for i in 1 : m\n",
    "        u = graph[i][1]\n",
    "        v = graph[i][2]\n",
    "        w = -graph[i][3]\n",
    "        if (distance[getIndex(vertex, n, u)] != typemax(Int64) \n",
    "            && distance[getIndex(vertex, n, u)] + w  < distance[getIndex(vertex, n, v)])  \n",
    "            println(\"Graph contains negative weight cycle\")\n",
    "        end\n",
    "    end\n",
    "\n",
    "    println(\"t = \", abs.(distance)[2 : (n - 1)])\n",
    "    println(\"tfin = \", abs.(distance)[n])\n",
    "end"
   ]
  },
  {
   "cell_type": "markdown",
   "metadata": {},
   "source": [
    "#### Test avec l'exemple du sujet"
   ]
  },
  {
   "cell_type": "code",
   "execution_count": 85,
   "metadata": {},
   "outputs": [
    {
     "name": "stdout",
     "output_type": "stream",
     "text": [
      "t = [0.0, 2.0, 2.0, 5.0, 3.0]\n",
      "tfin = 9.0\n"
     ]
    }
   ],
   "source": [
    "vertex = [\"debut\", \"A\", \"B\", \"C\", \"D\", \"E\", \"fin\"]\n",
    "previous = [\"debut\", \"debut\", \"debut\", \"debut\", \"debut\", \"debut\", \"debut\"]\n",
    "source = 1\n",
    "graph = [\n",
    "    (\"debut\", \"A\", 0),\n",
    "    (\"A\", \"B\", 2), (\"A\", \"C\", 2),\n",
    "    (\"B\", \"D\", 3),\n",
    "    (\"C\", \"D\", 1), (\"C\", \"E\", 1),\n",
    "    (\"D\", \"fin\", 4),\n",
    "    (\"E\", \"fin\", 1)\n",
    "    ]\n",
    "bellman_ford(length(vertex), length(graph), graph, vertex, source)"
   ]
  },
  {
   "cell_type": "markdown",
   "metadata": {},
   "source": [
    "#### Comparaison de la solution obtenue avec celle du programme linéaire\n",
    "\n",
    "En appliquant l'algorithme de **Bellman Ford** sur le graphe potentiel-tâche correspondant au *Tableau 1*, on retrouve que le plus long chemin <br>est : **debut -> A -> B -> D -> fin** avec une durée totale d’exécution $t_f = 9$ tout en respectant les durées et les contraintes de précédence entre les tâches. Ce résultat est identique à la solution obtenue avec celle du programme linéaire.\n",
    "Or la solution avec le plus long chemin retourne un variable $t$ plus exacte."
   ]
  }
 ],
 "metadata": {
  "kernelspec": {
   "display_name": "Julia 1.5.2",
   "language": "julia",
   "name": "julia-1.5"
  },
  "language_info": {
   "file_extension": ".jl",
   "mimetype": "application/julia",
   "name": "julia",
   "version": "1.5.2"
  }
 },
 "nbformat": 4,
 "nbformat_minor": 4
}
