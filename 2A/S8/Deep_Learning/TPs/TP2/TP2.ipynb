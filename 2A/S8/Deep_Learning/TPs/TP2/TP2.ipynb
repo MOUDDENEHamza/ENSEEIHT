{
 "cells": [
  {
   "cell_type": "markdown",
   "metadata": {
    "id": "FRcVJdNiFJ6Y"
   },
   "source": [
    "# TP 2 - Régression\n",
    "\n",
    "## Prédiction des prix de l'immobilier à Boston dans les années 1970"
   ]
  },
  {
   "cell_type": "markdown",
   "metadata": {
    "id": "UJX3eu1lFSLZ"
   },
   "source": [
    "La prédiction du prix de maisons bostoniennes des années 1970, dont les données sont issues de la base *Boston House Prices*, créée par D. Harrison et D.L. Rubinfeld à l'Université de Californie à Irvine (http://archive.ics.uci.edu/ml/machine-learning-databases/housing/), est un problème classique d'apprentissage supervisé. \n",
    "\n",
    "<img src=\"https://1.bp.blogspot.com/-sCZIatDf9LQ/XGm-lEHXnAI/AAAAAAAAPxQ/kv8S8fdgudAwWTFuJhuAoiykLmWLCoOtgCLcBGAs/s1600/197010xx-GovernmentCenter-Boston_resize.JPG\" width=600 />\n",
    "\n",
    "Plus précisément, le label à prédire dans cette base de données est le prix médian par quartier de l'immobilier (en milliers de dollars). Il s'agit donc d'un problème de régression puisque l'on veut inférer des valeurs continues. Pour ce faire, on dispose de 13 entrées offrant les informations suivantes : \n",
    "\n",
    "- CRIM - per capita crime rate by town\n",
    "- ZN - proportion of residential land zoned for lots over 25,000 sq.ft.\n",
    "- INDUS - proportion of non-retail business acres per town.\n",
    "- CHAS - Charles River dummy variable (1 if tract bounds river; 0 otherwise)\n",
    "- NOX - nitric oxides concentration (parts per 10 million)\n",
    "- RM - average number of rooms per dwelling\n",
    "- AGE - proportion of owner-occupied units built prior to 1940\n",
    "- DIS - weighted distances to five Boston employment centres\n",
    "- TAX - full-value property-tax rate per \\$10,000\n",
    "- RAD - index of accessibility to radial highways\n",
    "- PTRATIO - pupil-teacher ratio by town\n",
    "- B $ = 1000(B_k - 0.63)^2$ where $B_k$ is the proportion of blacks by town\n",
    "- LSTAT - percentage lower status of the population\n",
    "\n",
    "L'objectif de ce TP est d'arriver à prédire au plus près les valeurs médianes de prix de maison par quartier.\n"
   ]
  },
  {
   "cell_type": "markdown",
   "metadata": {},
   "source": [
    "![Texte alternatif…](https://miro.medium.com/max/763/1*i9vZk7NkS1dZz6JEcbV5nA.png)"
   ]
  },
  {
   "cell_type": "code",
   "execution_count": 1,
   "metadata": {
    "id": "hy3k4aRnGl0r"
   },
   "outputs": [],
   "source": [
    "from __future__ import print_function\n",
    "import numpy as np\n",
    "from matplotlib import pyplot as plt\n",
    "from keras import optimizers\n",
    "from keras.models import Sequential\n",
    "from keras.layers import Dense, Activation\n",
    "from keras import regularizers\n",
    "\n",
    "%matplotlib inline"
   ]
  },
  {
   "cell_type": "markdown",
   "metadata": {
    "id": "D-j9idOyYyl-"
   },
   "source": [
    "Nous réutilisons la fonction d'affichage des fonctions de coût introduite dans le TP1"
   ]
  },
  {
   "cell_type": "code",
   "execution_count": 2,
   "metadata": {
    "id": "EEWkxUsqPua5"
   },
   "outputs": [],
   "source": [
    "def plot_loss(val_loss, train_loss, ymax=100):\n",
    "  plt.plot(val_loss, color='green', label='Erreur de validation')\n",
    "  plt.plot(train_loss, color='blue', linestyle='--', label='Erreur d\\'entraînement')\n",
    "  plt.xlabel('Epochs')\n",
    "  plt.ylim(0, ymax)\n",
    "  plt.title('Évolution de la perte sur les ensembles d\\'apprentissage et de validation au cours de l\\'apprentissage')\n",
    "  plt.legend()"
   ]
  },
  {
   "cell_type": "markdown",
   "metadata": {
    "id": "y4HMTOhJRh9o"
   },
   "source": [
    "# Préparation des données"
   ]
  },
  {
   "cell_type": "markdown",
   "metadata": {
    "id": "D85ZzbYDY5Xs"
   },
   "source": [
    "On commence par charger les données d'entraînement et de test."
   ]
  },
  {
   "cell_type": "code",
   "execution_count": 3,
   "metadata": {
    "id": "gh8vgUo3859i"
   },
   "outputs": [
    {
     "name": "stdout",
     "output_type": "stream",
     "text": [
      "Downloading data from https://storage.googleapis.com/tensorflow/tf-keras-datasets/boston_housing.npz\n",
      "57344/57026 [==============================] - 0s 1us/step\n"
     ]
    }
   ],
   "source": [
    "from keras.datasets import boston_housing\n",
    "\n",
    "(x_train, y_train), (x_test, y_test) = boston_housing.load_data()"
   ]
  },
  {
   "cell_type": "markdown",
   "metadata": {
    "id": "jJZfgaVwMGk9"
   },
   "source": [
    "# Approche simple à corriger\n",
    "\n",
    "\n"
   ]
  },
  {
   "cell_type": "markdown",
   "metadata": {
    "id": "p1AKFeUnML3b"
   },
   "source": [
    "## Création du modèle\n",
    "\n"
   ]
  },
  {
   "cell_type": "code",
   "execution_count": 4,
   "metadata": {
    "id": "nQwBDvUq9VVn"
   },
   "outputs": [],
   "source": [
    "model = Sequential()\n",
    "model.add(Dense(4, activation='relu', input_dim=13))\n",
    "model.add(Dense(1, activation='sigmoid'))"
   ]
  },
  {
   "cell_type": "markdown",
   "metadata": {
    "id": "ng3YnvV3RqVZ"
   },
   "source": [
    "## Entrainement du réseau"
   ]
  },
  {
   "cell_type": "code",
   "execution_count": 5,
   "metadata": {
    "id": "DtON8JXE9gj-"
   },
   "outputs": [
    {
     "name": "stdout",
     "output_type": "stream",
     "text": [
      "Epoch 1/50\n",
      "13/13 [==============================] - 1s 2ms/step - loss: 536.9858 - mae: 21.2825\n",
      "Epoch 2/50\n",
      "13/13 [==============================] - 0s 2ms/step - loss: 551.0585 - mae: 21.5515\n",
      "Epoch 3/50\n",
      "13/13 [==============================] - 0s 2ms/step - loss: 529.8773 - mae: 21.1394\n",
      "Epoch 4/50\n",
      "13/13 [==============================] - 0s 2ms/step - loss: 574.1940 - mae: 22.0607\n",
      "Epoch 5/50\n",
      "13/13 [==============================] - 0s 2ms/step - loss: 572.7984 - mae: 22.0302\n",
      "Epoch 6/50\n",
      "13/13 [==============================] - 0s 1ms/step - loss: 525.4861 - mae: 21.0256\n",
      "Epoch 7/50\n",
      "13/13 [==============================] - 0s 2ms/step - loss: 562.3838 - mae: 21.7986\n",
      "Epoch 8/50\n",
      "13/13 [==============================] - 0s 1ms/step - loss: 525.7583 - mae: 21.0730\n",
      "Epoch 9/50\n",
      "13/13 [==============================] - 0s 2ms/step - loss: 545.1213 - mae: 21.5209\n",
      "Epoch 10/50\n",
      "13/13 [==============================] - 0s 2ms/step - loss: 517.7800 - mae: 20.7260\n",
      "Epoch 11/50\n",
      "13/13 [==============================] - 0s 1ms/step - loss: 513.2942 - mae: 20.7468\n",
      "Epoch 12/50\n",
      "13/13 [==============================] - 0s 873us/step - loss: 552.6068 - mae: 21.5153\n",
      "Epoch 13/50\n",
      "13/13 [==============================] - 0s 1ms/step - loss: 560.3844 - mae: 21.5802\n",
      "Epoch 14/50\n",
      "13/13 [==============================] - 0s 1ms/step - loss: 514.2005 - mae: 20.7166\n",
      "Epoch 15/50\n",
      "13/13 [==============================] - 0s 2ms/step - loss: 536.1584 - mae: 21.2414\n",
      "Epoch 16/50\n",
      "13/13 [==============================] - 0s 1ms/step - loss: 549.2152 - mae: 21.5851\n",
      "Epoch 17/50\n",
      "13/13 [==============================] - 0s 2ms/step - loss: 539.9830 - mae: 21.3264\n",
      "Epoch 18/50\n",
      "13/13 [==============================] - 0s 2ms/step - loss: 518.6699 - mae: 20.9843\n",
      "Epoch 19/50\n",
      "13/13 [==============================] - 0s 2ms/step - loss: 534.6748 - mae: 21.2096\n",
      "Epoch 20/50\n",
      "13/13 [==============================] - 0s 1ms/step - loss: 581.5938 - mae: 22.1298\n",
      "Epoch 21/50\n",
      "13/13 [==============================] - 0s 2ms/step - loss: 540.3573 - mae: 21.4254\n",
      "Epoch 22/50\n",
      "13/13 [==============================] - 0s 1ms/step - loss: 563.1222 - mae: 21.7128\n",
      "Epoch 23/50\n",
      "13/13 [==============================] - 0s 2ms/step - loss: 564.5469 - mae: 21.8688\n",
      "Epoch 24/50\n",
      "13/13 [==============================] - 0s 2ms/step - loss: 554.0222 - mae: 21.5568\n",
      "Epoch 25/50\n",
      "13/13 [==============================] - 0s 2ms/step - loss: 557.9650 - mae: 21.8008\n",
      "Epoch 26/50\n",
      "13/13 [==============================] - 0s 2ms/step - loss: 540.0805 - mae: 21.2647\n",
      "Epoch 27/50\n",
      "13/13 [==============================] - 0s 2ms/step - loss: 552.2054 - mae: 21.6440\n",
      "Epoch 28/50\n",
      "13/13 [==============================] - 0s 2ms/step - loss: 535.5671 - mae: 21.3493\n",
      "Epoch 29/50\n",
      "13/13 [==============================] - 0s 2ms/step - loss: 539.9854 - mae: 21.3191\n",
      "Epoch 30/50\n",
      "13/13 [==============================] - 0s 1ms/step - loss: 531.0486 - mae: 21.1877\n",
      "Epoch 31/50\n",
      "13/13 [==============================] - 0s 2ms/step - loss: 570.6846 - mae: 22.1009\n",
      "Epoch 32/50\n",
      "13/13 [==============================] - 0s 2ms/step - loss: 580.1704 - mae: 21.9580\n",
      "Epoch 33/50\n",
      "13/13 [==============================] - 0s 1ms/step - loss: 525.7240 - mae: 21.0609\n",
      "Epoch 34/50\n",
      "13/13 [==============================] - 0s 2ms/step - loss: 545.8670 - mae: 21.5637\n",
      "Epoch 35/50\n",
      "13/13 [==============================] - 0s 1ms/step - loss: 520.0158 - mae: 20.8280\n",
      "Epoch 36/50\n",
      "13/13 [==============================] - 0s 2ms/step - loss: 547.3498 - mae: 21.3993\n",
      "Epoch 37/50\n",
      "13/13 [==============================] - 0s 2ms/step - loss: 573.4150 - mae: 21.8537\n",
      "Epoch 38/50\n",
      "13/13 [==============================] - 0s 2ms/step - loss: 524.1874 - mae: 21.0089\n",
      "Epoch 39/50\n",
      "13/13 [==============================] - 0s 2ms/step - loss: 537.6785 - mae: 21.2862\n",
      "Epoch 40/50\n",
      "13/13 [==============================] - 0s 1ms/step - loss: 523.9663 - mae: 20.9679\n",
      "Epoch 41/50\n",
      "13/13 [==============================] - 0s 2ms/step - loss: 514.3103 - mae: 20.9956\n",
      "Epoch 42/50\n",
      "13/13 [==============================] - 0s 2ms/step - loss: 560.3501 - mae: 21.5370\n",
      "Epoch 43/50\n",
      "13/13 [==============================] - 0s 2ms/step - loss: 562.6576 - mae: 21.7694\n",
      "Epoch 44/50\n",
      "13/13 [==============================] - 0s 1ms/step - loss: 539.0210 - mae: 21.4009\n",
      "Epoch 45/50\n",
      "13/13 [==============================] - 0s 1ms/step - loss: 549.1234 - mae: 21.6225\n",
      "Epoch 46/50\n",
      "13/13 [==============================] - 0s 2ms/step - loss: 556.7839 - mae: 21.6295\n",
      "Epoch 47/50\n",
      "13/13 [==============================] - 0s 2ms/step - loss: 575.0566 - mae: 22.0343\n",
      "Epoch 48/50\n",
      "13/13 [==============================] - 0s 2ms/step - loss: 559.7477 - mae: 21.8193\n",
      "Epoch 49/50\n",
      "13/13 [==============================] - 0s 1ms/step - loss: 548.1720 - mae: 21.5399\n",
      "Epoch 50/50\n",
      "13/13 [==============================] - 0s 2ms/step - loss: 543.5957 - mae: 21.4823\n"
     ]
    }
   ],
   "source": [
    "optim = optimizers.SGD(lr = 0.01)\n",
    "model.compile(optimizer=optim, loss='mse', metrics=['mae'])\n",
    "\n",
    "history = model.fit(x_train, y_train, epochs=50, batch_size=32)"
   ]
  },
  {
   "cell_type": "markdown",
   "metadata": {
    "id": "WTyU-K5jR1KA"
   },
   "source": [
    "## Evaluation du modèle"
   ]
  },
  {
   "cell_type": "code",
   "execution_count": 8,
   "metadata": {
    "id": "LZdF2ihZPYnS"
   },
   "outputs": [
    {
     "data": {
      "image/png": "[encoded data removed]",
      "text/plain": [
       "<Figure size 432x288 with 1 Axes>"
      ]
     },
     "metadata": {
      "needs_background": "light"
     },
     "output_type": "display_data"
    }
   ],
   "source": [
    "train_loss=(history.history['loss'])\n",
    "plot_loss([], train_loss, ymax=800)\n",
    "#val_loss=(history.history['val_loss'])\n",
    "#plot_loss(val_loss, train_loss, ymax=500)"
   ]
  },
  {
   "cell_type": "code",
   "execution_count": 7,
   "metadata": {
    "id": "Tzs6ZY3B-eut"
   },
   "outputs": [
    {
     "name": "stdout",
     "output_type": "stream",
     "text": [
      "4/4 [==============================] - 0s 1ms/step - loss: 570.7010 - mae: 22.0784\n"
     ]
    },
    {
     "data": {
      "text/plain": [
       "[570.7009887695312, 22.078432083129883]"
      ]
     },
     "execution_count": 7,
     "metadata": {},
     "output_type": "execute_result"
    }
   ],
   "source": [
    "model.evaluate(x_test, y_test)"
   ]
  },
  {
   "cell_type": "markdown",
   "metadata": {
    "id": "lgbYzKDGYoaa"
   },
   "source": [
    "On obtient une mae d'environ 22, ce qui signie que l'on est éloigné en moyenne de 22000$ de la vérité terrain.\n",
    "\n",
    "# Travail à faire\n",
    "\n",
    "L'approche présentée ci-dessus apporte des résultats décevants, en raison de  quelques maladresses, voire erreurs. Dans un premier temps, vous devez **trouver et corriger ces problèmes**.\n",
    "\n",
    "Dans un second temps, cherchez à améliorer les performances du modèle. Vous pouvez atteindre sans trop de difficulté un score de MAE inférieur à 3 sur l'ensemble de test. Pour vous aider, inspirez-vous de la vidéo du cours ci-dessous. A chaque nouveau test, vous devez évaluer si votre réseau est en sous-apprentissage, ou en sur-apprentissage, et en déduire des modifications possibles pour en améliorer les performances.\n",
    "\n",
    "MAE de test à battre si vous aimez les défis : **2.20** !\n"
   ]
  },
  {
   "cell_type": "code",
   "execution_count": 1,
   "metadata": {},
   "outputs": [
    {
     "data": {
      "text/html": [
       "\n",
       "        <iframe\n",
       "            width=\"640\"\n",
       "            height=\"360\"\n",
       "            src=\"https://video.polymny.studio/?v=c9e5c27b-2228-488e-b64d-8fd57ed30056/\"\n",
       "            frameborder=\"0\"\n",
       "            allowfullscreen\n",
       "        ></iframe>\n",
       "        "
      ],
      "text/plain": [
       "<IPython.lib.display.IFrame at 0x7ffaf0409af0>"
      ]
     },
     "execution_count": 1,
     "metadata": {},
     "output_type": "execute_result"
    }
   ],
   "source": [
    "from IPython.display import IFrame\n",
    "IFrame(\"https://video.polymny.studio/?v=c9e5c27b-2228-488e-b64d-8fd57ed30056/\", width=640, height=360)"
   ]
  }
 ],
 "metadata": {
  "accelerator": "GPU",
  "colab": {
   "collapsed_sections": [],
   "name": "IAM2020-TP2-Boston-Sujet.ipynb",
   "provenance": [],
   "toc_visible": true
  },
  "kernelspec": {
   "display_name": "Python 3",
   "language": "python",
   "name": "python3"
  },
  "language_info": {
   "codemirror_mode": {
    "name": "ipython",
    "version": 3
   },
   "file_extension": ".py",
   "mimetype": "text/x-python",
   "name": "python",
   "nbconvert_exporter": "python",
   "pygments_lexer": "ipython3",
   "version": "3.8.5"
  }
 },
 "nbformat": 4,
 "nbformat_minor": 1
}
